{
  "cells": [
    {
      "cell_type": "markdown",
      "metadata": {
        "id": "dlTk8fR7R0_I"
      },
      "source": [
        "Last review: Jan 2024"
      ]
    },
    {
      "cell_type": "markdown",
      "metadata": {
        "id": "88PTlpIU72bH"
      },
      "source": [
        "# Basics of tensors\n",
        "\n",
        "This lab is based on material from Chapter 2 of [D2L (Classic version)](https://classic.d2l.ai/)\n",
        "\n",
        "- Data manipulation\n",
        "- Operations on tensors\n",
        "- Pandas: reading in data, handling missing values, converting variables to tensors\n",
        "- Automatic differentiation with `autograd` package\n",
        "\n",
        "## What is PyTorch?\n",
        "\n",
        "It’s a Python based scientific computing package targeted at two sets of audiences:\n",
        "\n",
        "-  Tensorial library that uses the power of GPUs\n",
        "-  A deep learning research platform that provides maximum flexibility and speed\n",
        "\n",
        "Import the PyTorch library"
      ]
    },
    {
      "cell_type": "code",
      "execution_count": 1,
      "metadata": {
        "id": "z_rCH7Ze72bI"
      },
      "outputs": [],
      "source": [
        "import torch"
      ]
    },
    {
      "cell_type": "markdown",
      "metadata": {
        "id": "gETJGMaz72bJ"
      },
      "source": [
        "### Activity 1: Data manipulation\n",
        "\n",
        "Referring to Section 2.1.1, complete the following tasks:\n",
        "\n",
        "1.1(a) Using `arange` create a vector (1-dimensional tensor) of 6 evenly spaced values from 0 to 5. Name the vector x. Print x.\n",
        "Repeat but use `torch.tensor` instead of `arange`."
      ]
    },
    {
      "cell_type": "code",
      "execution_count": 2,
      "metadata": {
        "colab": {
          "base_uri": "https://localhost:8080/"
        },
        "id": "NrM322XQ72bK",
        "outputId": "26491a76-43e5-462c-f22e-efbad2d6a8f5"
      },
      "outputs": [
        {
          "name": "stdout",
          "output_type": "stream",
          "text": [
            "tensor([0, 1, 2, 3, 4, 5])\n",
            "tensor([0, 1, 2, 3, 4, 5])\n"
          ]
        }
      ],
      "source": [
        "#1a\n",
        "x = torch.arange(6)\n",
        "print(x)\n",
        "y = torch.tensor([0,1,2,3,4,5])\n",
        "print(y)"
      ]
    },
    {
      "cell_type": "markdown",
      "metadata": {
        "id": "BWOb-mDQ72bL"
      },
      "source": [
        "To get help with a function use `?` (or do a web search) for example to see documentation for `torch.tensor`:"
      ]
    },
    {
      "cell_type": "code",
      "execution_count": 3,
      "metadata": {
        "id": "UroLyuCj72bL"
      },
      "outputs": [
        {
          "name": "stdout",
          "output_type": "stream",
          "text": [
            "\u001b[0;31mDocstring:\u001b[0m\n",
            "tensor(data, *, dtype=None, device=None, requires_grad=False, pin_memory=False) -> Tensor\n",
            "\n",
            "Constructs a tensor with no autograd history (also known as a \"leaf tensor\", see :doc:`/notes/autograd`) by copying :attr:`data`.\n",
            "\n",
            ".. warning::\n",
            "\n",
            "    When working with tensors prefer using :func:`torch.Tensor.clone`,\n",
            "    :func:`torch.Tensor.detach`, and :func:`torch.Tensor.requires_grad_` for\n",
            "    readability. Letting `t` be a tensor, ``torch.tensor(t)`` is equivalent to\n",
            "    ``t.clone().detach()``, and ``torch.tensor(t, requires_grad=True)``\n",
            "    is equivalent to ``t.clone().detach().requires_grad_(True)``.\n",
            "\n",
            ".. seealso::\n",
            "\n",
            "    :func:`torch.as_tensor` preserves autograd history and avoids copies where possible.\n",
            "    :func:`torch.from_numpy` creates a tensor that shares storage with a NumPy array.\n",
            "\n",
            "Args:\n",
            "    data (array_like): Initial data for the tensor. Can be a list, tuple,\n",
            "        NumPy ``ndarray``, scalar, and other types.\n",
            "\n",
            "Keyword args:\n",
            "    dtype (:class:`torch.dtype`, optional): the desired data type of returned tensor.\n",
            "        Default: if ``None``, infers data type from :attr:`data`.\n",
            "    device (:class:`torch.device`, optional): the device of the constructed tensor. If None and data is a tensor\n",
            "        then the device of data is used. If None and data is not a tensor then\n",
            "        the result tensor is constructed on the current device.\n",
            "    requires_grad (bool, optional): If autograd should record operations on the\n",
            "        returned tensor. Default: ``False``.\n",
            "    pin_memory (bool, optional): If set, returned tensor would be allocated in\n",
            "        the pinned memory. Works only for CPU tensors. Default: ``False``.\n",
            "\n",
            "\n",
            "Example::\n",
            "\n",
            "    >>> torch.tensor([[0.1, 1.2], [2.2, 3.1], [4.9, 5.2]])\n",
            "    tensor([[ 0.1000,  1.2000],\n",
            "            [ 2.2000,  3.1000],\n",
            "            [ 4.9000,  5.2000]])\n",
            "\n",
            "    >>> torch.tensor([0, 1])  # Type inference on data\n",
            "    tensor([ 0,  1])\n",
            "\n",
            "    >>> torch.tensor([[0.11111, 0.222222, 0.3333333]],\n",
            "    ...              dtype=torch.float64,\n",
            "    ...              device=torch.device('cuda:0'))  # creates a double tensor on a CUDA device\n",
            "    tensor([[ 0.1111,  0.2222,  0.3333]], dtype=torch.float64, device='cuda:0')\n",
            "\n",
            "    >>> torch.tensor(3.14159)  # Create a zero-dimensional (scalar) tensor\n",
            "    tensor(3.1416)\n",
            "\n",
            "    >>> torch.tensor([])  # Create an empty tensor (of size (0,))\n",
            "    tensor([])\n",
            "\u001b[0;31mType:\u001b[0m      builtin_function_or_method"
          ]
        }
      ],
      "source": [
        "torch.tensor?"
      ]
    },
    {
      "cell_type": "markdown",
      "metadata": {
        "id": "1Nim7Dh88kGn"
      },
      "source": [
        "1.1(b) Using `arange` create tensor from -1.5 to 2.5 with each having a space of 0.5"
      ]
    },
    {
      "cell_type": "code",
      "execution_count": 4,
      "metadata": {
        "colab": {
          "base_uri": "https://localhost:8080/"
        },
        "id": "2elBMfj472bL",
        "outputId": "4d7d9d1d-538d-435f-f0bc-968fda61ace7"
      },
      "outputs": [
        {
          "data": {
            "text/plain": [
              "tensor([-1.5000, -1.0000, -0.5000,  0.0000,  0.5000,  1.0000,  1.5000,  2.0000,\n",
              "         2.5000,  3.0000])"
            ]
          },
          "execution_count": 4,
          "metadata": {},
          "output_type": "execute_result"
        }
      ],
      "source": [
        "# You can use torch.tensor, but more efficient to do with with torch.arange\n",
        "torch.arange(-1.5, 3.0001, 0.5)"
      ]
    },
    {
      "cell_type": "markdown",
      "metadata": {
        "id": "7zOtuaqCS7UK"
      },
      "source": [
        "1.1(c) Refer to the documentation for [`torch.one_like()`](https://pytorch.org/docs/stable/generated/torch.ones_like.html) to understand the following output of the code:"
      ]
    },
    {
      "cell_type": "code",
      "execution_count": 5,
      "metadata": {
        "colab": {
          "base_uri": "https://localhost:8080/"
        },
        "id": "jide0WcXS0y7",
        "outputId": "7214c8dc-3f1c-4044-ac2a-04df8857e0e8"
      },
      "outputs": [
        {
          "name": "stdout",
          "output_type": "stream",
          "text": [
            "tensor([0, 1, 2, 3, 4, 5])\n"
          ]
        },
        {
          "data": {
            "text/plain": [
              "tensor([1, 1, 1, 1, 1, 1])"
            ]
          },
          "execution_count": 5,
          "metadata": {},
          "output_type": "execute_result"
        }
      ],
      "source": [
        "print(x)\n",
        "torch.ones_like(x)"
      ]
    },
    {
      "cell_type": "markdown",
      "metadata": {
        "id": "FuyABpLu72bL"
      },
      "source": [
        "1.2(a) Apply the function `len` and `shape` to x. What do these output?(And how is this related to the dimension of the vector x? (see page 55))"
      ]
    },
    {
      "cell_type": "code",
      "execution_count": 6,
      "metadata": {
        "colab": {
          "base_uri": "https://localhost:8080/"
        },
        "id": "lQK8IdZ_72bM",
        "outputId": "64f467ea-e676-41a3-f4e7-54e3624c682a"
      },
      "outputs": [
        {
          "name": "stdout",
          "output_type": "stream",
          "text": [
            " Lenth: 6\n",
            "Shape: torch.Size([6])\n"
          ]
        }
      ],
      "source": [
        "#2a\n",
        "print(f\" Lenth: {len(x)}\") # returns number of elements\n",
        "\n",
        "# shape is an attribute of a tensor.\n",
        "print(f\"Shape: {x.shape}\") # length along each axis (only 1 axis)\n",
        "\n",
        "#Common error made by students: shape(x)\n",
        "# shape is part of numpy, so you need to\n",
        "# import numpy as np\n",
        "# Then\n",
        "# np.shape(x)\n",
        "\n",
        "# (p.55) Note that the word “dimension” tends to get overloaded in these contexts and this tends to confuse\n",
        "# people. To clarify, we use the **dimensionality of a vector or an axis** to refer to its length, i.e., the\n",
        "# number of elements of a vector or an axis. However, we use the **dimensionality of a tensor** to refer\n",
        "# to the number of axes that a tensor has."
      ]
    },
    {
      "cell_type": "markdown",
      "metadata": {
        "id": "TlrqQrpv72bM"
      },
      "source": [
        "1.2(b) What's the difference between `torch.tensor(2)` and `torch.tensor([2])`. Look at their shapes."
      ]
    },
    {
      "cell_type": "code",
      "execution_count": 7,
      "metadata": {
        "colab": {
          "base_uri": "https://localhost:8080/"
        },
        "id": "Dd5EzxhT72bM",
        "outputId": "8f6ad856-5fd7-405d-fa18-dfaa701a1f4c"
      },
      "outputs": [
        {
          "name": "stdout",
          "output_type": "stream",
          "text": [
            "torch.Size([])\n",
            "torch.Size([1])\n",
            "torch.Size([1, 1])\n",
            "torch.Size([1, 1, 1])\n"
          ]
        }
      ],
      "source": [
        "print(torch.tensor(2).shape) # this is rank 0 tensor. It is a scalar\n",
        "print(torch.tensor([2]).shape) # 1d tensor\n",
        "print(torch.tensor([[2]]).shape)\n",
        "print(torch.tensor([[[2]]]).shape)"
      ]
    },
    {
      "cell_type": "markdown",
      "metadata": {
        "id": "up5oU42IuTFZ"
      },
      "source": [
        "`torch.flatten()` can reduce the dimensionality of a tensor if in some place it has dimension 1.\n",
        "It also works for scalers."
      ]
    },
    {
      "cell_type": "code",
      "execution_count": 8,
      "metadata": {
        "colab": {
          "base_uri": "https://localhost:8080/"
        },
        "id": "qGaBZtHQuTFZ",
        "outputId": "2a90e7bd-1797-42c5-fc05-2c37c1e1b65e"
      },
      "outputs": [
        {
          "name": "stdout",
          "output_type": "stream",
          "text": [
            "torch.Size([1, 1])\n",
            "torch.Size([1])\n",
            "torch.Size([1])\n",
            "tensor(2)\n",
            "torch.Size([1, 1, 1, 1, 1])\n",
            "torch.Size([1])\n"
          ]
        }
      ],
      "source": [
        "test_x = torch.tensor([[2]])\n",
        "print(test_x.shape)\n",
        "test_y = torch.flatten(test_x)\n",
        "print(test_y.shape)\n",
        "\n",
        "test_scaler = torch.tensor(2)\n",
        "print(torch.flatten(test_scaler).shape)\n",
        "print(test_scaler)\n",
        "\n",
        "test_xx = torch.tensor([[[[[2]]]]])\n",
        "print(test_xx.shape)\n",
        "print(torch.flatten(test_xx).shape)"
      ]
    },
    {
      "cell_type": "markdown",
      "metadata": {
        "id": "qWEn_1u472bN"
      },
      "source": [
        "1.2(c) Study the code below. What is the purpose of `dtype=torch.float32`?"
      ]
    },
    {
      "cell_type": "code",
      "execution_count": 9,
      "metadata": {
        "colab": {
          "base_uri": "https://localhost:8080/"
        },
        "id": "EMw7RaScADU_",
        "outputId": "d852a838-43d6-489d-ede2-3ecbcad42017"
      },
      "outputs": [
        {
          "name": "stdout",
          "output_type": "stream",
          "text": [
            "tensor([0, 1, 2, 3, 4, 5])\n",
            "tensor([0., 1., 2., 3., 4., 5.])\n"
          ]
        },
        {
          "data": {
            "text/plain": [
              "tensor([True, True, True, True, True, True])"
            ]
          },
          "execution_count": 9,
          "metadata": {},
          "output_type": "execute_result"
        }
      ],
      "source": [
        "x = torch.arange(6)\n",
        "x2 = torch.arange(6, dtype=torch.float32)\n",
        "print(x)\n",
        "print(x2)\n",
        "x == x2"
      ]
    },
    {
      "cell_type": "markdown",
      "metadata": {
        "id": "MQcNi2li72bN"
      },
      "source": [
        "1.3(a) Use the `reshape` function to change the shape of the tensor x from a row vector to a matrix (2d tensor) with shape 2 rows and 3 columns, .i.e shape (2,3). Call it X. Print X. How many axes are there?"
      ]
    },
    {
      "cell_type": "code",
      "execution_count": 10,
      "metadata": {
        "colab": {
          "base_uri": "https://localhost:8080/"
        },
        "id": "iumlrrzE72bN",
        "outputId": "c6470c75-4657-4307-8936-fc6c6b1d500a"
      },
      "outputs": [
        {
          "name": "stdout",
          "output_type": "stream",
          "text": [
            "tensor([[0, 1, 2],\n",
            "        [3, 4, 5]])\n"
          ]
        }
      ],
      "source": [
        "#3a\n",
        "X = x.reshape(2,3)\n",
        "print(X)\n",
        "## axes=2"
      ]
    },
    {
      "cell_type": "code",
      "execution_count": 11,
      "metadata": {
        "colab": {
          "base_uri": "https://localhost:8080/"
        },
        "id": "w3wpjlngN3-C",
        "outputId": "3a88e93b-b1b4-423a-942e-bb983a973b96"
      },
      "outputs": [
        {
          "name": "stdout",
          "output_type": "stream",
          "text": [
            "tensor([0, 1, 2, 3, 4, 5])\n",
            "tensor([0, 1, 2, 3, 4, 5])\n"
          ]
        }
      ],
      "source": [
        "print(x)\n",
        "\n",
        "x.reshape(2,3)\n",
        "print(x)"
      ]
    },
    {
      "cell_type": "markdown",
      "metadata": {
        "id": "_v2Uv5hL72bN"
      },
      "source": [
        "1.3(b) Look up `torch.view` to understand the following:"
      ]
    },
    {
      "cell_type": "code",
      "execution_count": 12,
      "metadata": {
        "colab": {
          "base_uri": "https://localhost:8080/"
        },
        "id": "KF_rd_dE72bN",
        "outputId": "720cb851-052f-4dfa-e520-64605031d5ab"
      },
      "outputs": [
        {
          "name": "stdout",
          "output_type": "stream",
          "text": [
            "tensor([[0, 1],\n",
            "        [2, 3],\n",
            "        [4, 5]])\n",
            "tensor([0, 1, 2, 3, 4, 5])\n",
            "tensor([[0, 1, 2],\n",
            "        [3, 4, 5]])\n"
          ]
        }
      ],
      "source": [
        "print(x.view(2,3).view(-1,2))\n",
        "\n",
        "xxx = x.view(2,3)\n",
        "#torch.view comes in very handy as we do\n",
        "# not need to keep track of the size of 2 axes.\n",
        "# just give it one, and set the other to -1 and it will\n",
        "# figure it out.\n",
        "\n",
        "print(x)\n",
        "print(xxx)\n"
      ]
    },
    {
      "cell_type": "code",
      "execution_count": 13,
      "metadata": {
        "colab": {
          "base_uri": "https://localhost:8080/"
        },
        "id": "F6nGZe_0OS2H",
        "outputId": "cafcd4ed-9f11-415f-c3b0-983c9500426e"
      },
      "outputs": [
        {
          "data": {
            "text/plain": [
              "tensor([[[ 0,  1,  2,  3],\n",
              "         [ 4,  5,  6,  7],\n",
              "         [ 8,  9, 10, 11]],\n",
              "\n",
              "        [[12, 13, 14, 15],\n",
              "         [16, 17, 18, 19],\n",
              "         [20, 21, 22, 23]]])"
            ]
          },
          "execution_count": 13,
          "metadata": {},
          "output_type": "execute_result"
        }
      ],
      "source": [
        "test_x = torch.arange(24)\n",
        "test_x.reshape(2,-1,4)"
      ]
    },
    {
      "cell_type": "markdown",
      "metadata": {
        "id": "tyjMk6QI72bN"
      },
      "source": [
        "1.4 How is the `-1` used in the reshape function? Repeat question 3a but using `-1` as one of the arguments."
      ]
    },
    {
      "cell_type": "code",
      "execution_count": 14,
      "metadata": {
        "colab": {
          "base_uri": "https://localhost:8080/"
        },
        "id": "XRKeInLU72bO",
        "outputId": "1095acc0-6d4a-4bd6-a948-b621d1226163"
      },
      "outputs": [
        {
          "name": "stdout",
          "output_type": "stream",
          "text": [
            "tensor([[0, 1, 2],\n",
            "        [3, 4, 5]])\n"
          ]
        }
      ],
      "source": [
        "#4\n",
        "X=x.reshape(-1,3) # -1 may apear in either of the two arguments\n",
        "print(X)"
      ]
    },
    {
      "cell_type": "markdown",
      "metadata": {
        "id": "zjcYH85K72bO"
      },
      "source": [
        "1.5 (Relating to Question 4) Without running code what will be the ouput of `x.reshape(-1,-1)`?  And for  `x.reshape(-1,4)`?"
      ]
    },
    {
      "cell_type": "code",
      "execution_count": 15,
      "metadata": {
        "id": "TeLTwHPe72bO"
      },
      "outputs": [],
      "source": [
        "#5\n",
        "# x.reshape(-1,-1) need to know at least one of the number of rows, columns to figure out the other.\n",
        "# x.reshape(-1,,4) returns error as shape does not match size of 6"
      ]
    },
    {
      "cell_type": "markdown",
      "metadata": {
        "id": "HgB9panzPOtx"
      },
      "source": [
        "At this point you may be thinking that `view` and `reshape` are the same thing. Well there is a subtle difference, which you can read about on [Stackoverflow](https://stackoverflow.com/questions/49643225/whats-the-difference-between-reshape-and-view-in-pytorch), but doesn't matter for us. In DL you will see `view` is more commonly used.\n"
      ]
    },
    {
      "cell_type": "markdown",
      "metadata": {
        "id": "PUuloZxi72bO"
      },
      "source": [
        "1.6 First, create a tensor with shape (3,5) whose elements are sampled from a standard normal distribution. Verify that when you run the same code you should get different numbers. Next, use `torch.manual_seed()` to get identical random draws to the tensor you created."
      ]
    },
    {
      "cell_type": "code",
      "execution_count": 16,
      "metadata": {
        "colab": {
          "base_uri": "https://localhost:8080/"
        },
        "id": "YvEamzpj72bO",
        "outputId": "732dc885-84d7-4496-a589-46b328fe968e"
      },
      "outputs": [
        {
          "data": {
            "text/plain": [
              "tensor([[ 1.0302, -0.5073, -0.1017,  1.3587, -3.0745],\n",
              "        [-0.7659,  0.7240,  0.2416, -1.5601,  1.3164],\n",
              "        [-0.8576, -0.3336, -2.5873, -0.1829, -0.4056]])"
            ]
          },
          "execution_count": 16,
          "metadata": {},
          "output_type": "execute_result"
        }
      ],
      "source": [
        "torch.manual_seed(22)\n",
        "torch.randn(3,5)\n",
        "\n",
        "# why set the seed?\n",
        "# Only makes a difference if our procedures involve\n",
        "# random sampling, such as sampling from some statistical distribution.\n",
        "# Setting the seed allows others to reproduce your results - which you\n",
        "# may have reported in a published paper. Reproducibility is important."
      ]
    },
    {
      "cell_type": "markdown",
      "metadata": {
        "id": "FjC9hYqZ72bO"
      },
      "source": [
        "### Activity 2: Operations on tensors\n",
        "\n",
        "\n",
        "2.1.(Section 2.1.2) Create the following 2x5 matrices whose:\n",
        "\n",
        "- values are integers from 0 to 9. Use `arange`, and have as one of the arguments `-1` in `reshape`. Call the matrix A.\n",
        "\n",
        "- values are drawn from a standard normal distribution and call it B\n",
        "\n",
        "- elements are zero and call it C\n",
        "\n",
        "- elements are ones and call it D\n",
        "\n",
        "a. raise each element of A to the power 2.\n",
        "\n",
        "b. Concatenate D on top of C on axis=0 get a $4\\times 5$ matrix and print the result.\n",
        "\n",
        "c. Concatenate D and C on axis 1 to get a $2\\times 10$ matrix and print the result.\n"
      ]
    },
    {
      "cell_type": "code",
      "execution_count": 17,
      "metadata": {
        "colab": {
          "base_uri": "https://localhost:8080/"
        },
        "id": "MKPbeBWw72bP",
        "outputId": "1a175758-1480-4234-d6da-c403d724bdce"
      },
      "outputs": [
        {
          "name": "stdout",
          "output_type": "stream",
          "text": [
            "tensor([[ 0.,  1.,  4.,  9., 16.],\n",
            "        [25., 36., 49., 64., 81.]])\n",
            "tensor([[1., 1., 1., 1., 1.],\n",
            "        [1., 1., 1., 1., 1.],\n",
            "        [0., 0., 0., 0., 0.],\n",
            "        [0., 0., 0., 0., 0.]])\n"
          ]
        },
        {
          "data": {
            "text/plain": [
              "tensor([[1., 1., 1., 1., 1., 0., 0., 0., 0., 0.],\n",
              "        [1., 1., 1., 1., 1., 0., 0., 0., 0., 0.]])"
            ]
          },
          "execution_count": 17,
          "metadata": {},
          "output_type": "execute_result"
        }
      ],
      "source": [
        "#1.\n",
        "A=torch.arange(10, dtype=torch.float32).reshape(-1,5)\n",
        "B=torch.randn(2,5,dtype=torch.float32)\n",
        "C=torch.zeros(2,5,dtype=torch.float32)\n",
        "D=torch.ones((2,5))\n",
        "\n",
        "A**2 # element-wise operation\n",
        "print(A**2)\n",
        "print(torch.cat((D,C),axis=0))\n",
        "torch.cat((D,C),axis=1)"
      ]
    },
    {
      "cell_type": "markdown",
      "metadata": {
        "id": "H48Sd1gH72bP"
      },
      "source": [
        "2.2(a) (Section 2.1.3) Add a scalar,say 10, to matrix A. Print the result, and explain what operation has been performed."
      ]
    },
    {
      "cell_type": "code",
      "execution_count": 18,
      "metadata": {
        "colab": {
          "base_uri": "https://localhost:8080/"
        },
        "id": "MV3R-xfP72bP",
        "outputId": "6f623930-7d64-4a74-ba87-2e262e732a40"
      },
      "outputs": [
        {
          "name": "stdout",
          "output_type": "stream",
          "text": [
            "tensor([[0., 1., 2., 3., 4.],\n",
            "        [5., 6., 7., 8., 9.]])\n",
            "tensor([[10., 11., 12., 13., 14.],\n",
            "        [15., 16., 17., 18., 19.]])\n",
            "tensor([[10., 11., 12., 13., 14.],\n",
            "        [15., 16., 17., 18., 19.]])\n"
          ]
        }
      ],
      "source": [
        "#2a\n",
        "#Broadcasting mechanism is applied\n",
        "# Note, not all function support broadcasting - torch.mm does not for example.\n",
        "print(A)\n",
        "print(A+10)\n",
        "\n",
        "print(A + 10 * torch.ones_like(A))"
      ]
    },
    {
      "cell_type": "markdown",
      "metadata": {
        "id": "q2Xbwy-f72bP"
      },
      "source": [
        "2.2(b) Add a vector `b=(6,0,2,-3.2,5)` to matrix A. Before writing the code, what do you expect will be the output? Verify it.\n",
        "In the output, why are there a bunch of zeros after the decimal place?"
      ]
    },
    {
      "cell_type": "code",
      "execution_count": 19,
      "metadata": {
        "colab": {
          "base_uri": "https://localhost:8080/"
        },
        "id": "bgSseS2z72bP",
        "outputId": "48d48664-7c43-4f84-f4d4-d810072994a8"
      },
      "outputs": [
        {
          "data": {
            "text/plain": [
              "tensor([[ 6.0000,  1.0000,  4.0000, -0.2000,  9.0000],\n",
              "        [11.0000,  6.0000,  9.0000,  4.8000, 14.0000]])"
            ]
          },
          "execution_count": 19,
          "metadata": {},
          "output_type": "execute_result"
        }
      ],
      "source": [
        "b=torch.tensor([6,0,2,-3.2,5])\n",
        "A+b"
      ]
    },
    {
      "cell_type": "code",
      "execution_count": 20,
      "metadata": {
        "colab": {
          "base_uri": "https://localhost:8080/"
        },
        "id": "_5QJFaCuRCA9",
        "outputId": "e8d66c16-ef82-44bf-d217-835072115a16"
      },
      "outputs": [
        {
          "name": "stdout",
          "output_type": "stream",
          "text": [
            "tensor([[ 1.,  2.,  3.,  4.,  5.],\n",
            "        [25., 26., 27., 28., 29.]])\n"
          ]
        }
      ],
      "source": [
        "c = torch.tensor([[1], [20]])\n",
        "c\n",
        "\n",
        "print(A+c)"
      ]
    },
    {
      "cell_type": "markdown",
      "metadata": {
        "id": "pWT4Dc9t72bQ"
      },
      "source": [
        "2.2(c) (This question is a useful reference for softmax regression.) What does `argmax(axis=1)` and `max` do when applied to the matrix `A`? See the following application of the two functions.  "
      ]
    },
    {
      "cell_type": "code",
      "execution_count": 21,
      "metadata": {
        "colab": {
          "base_uri": "https://localhost:8080/"
        },
        "id": "Upa5MMak72bQ",
        "outputId": "7ac60397-c161-4227-a122-60a476b2e174"
      },
      "outputs": [
        {
          "name": "stdout",
          "output_type": "stream",
          "text": [
            "tensor([[0., 1., 2., 3., 4.],\n",
            "        [5., 6., 7., 8., 9.]])\n",
            "tensor([4, 4])\n",
            "tensor(9.)\n"
          ]
        }
      ],
      "source": [
        "print(A)\n",
        "print(A.argmax(axis=1)) # in each row, which is the max\n",
        "print(A.max())"
      ]
    },
    {
      "cell_type": "markdown",
      "metadata": {
        "id": "CoEOGuJE72bQ"
      },
      "source": [
        "Solution to 2c. `argmax(axis=1)` returns the index corresponding to the largest value per row; `max` returns the largest value in the matrix `A`."
      ]
    },
    {
      "cell_type": "markdown",
      "metadata": {
        "id": "11fEW6cc72bQ"
      },
      "source": [
        "2.2(d) The following code returns and error. Correct it. (Hint: see Activity 1)"
      ]
    },
    {
      "cell_type": "code",
      "execution_count": 22,
      "metadata": {
        "colab": {
          "base_uri": "https://localhost:8080/"
        },
        "id": "EJqdXwNe72bQ",
        "outputId": "7d723b40-8312-4971-8ca4-3336fba93786"
      },
      "outputs": [
        {
          "name": "stdout",
          "output_type": "stream",
          "text": [
            "tensor(45.)\n",
            "tensor(4.5000)\n"
          ]
        }
      ],
      "source": [
        "print(A.sum())\n",
        "print(A.mean())"
      ]
    },
    {
      "cell_type": "markdown",
      "metadata": {
        "id": "NclF_mEj72bQ"
      },
      "source": [
        "2.2(e) (This question is a useful reference for convoluational neural nets.) The following code multiplies matrices F and G. Without running the code, what are the outputs?\n",
        "run the code to verify your answer."
      ]
    },
    {
      "cell_type": "code",
      "execution_count": 23,
      "metadata": {
        "colab": {
          "base_uri": "https://localhost:8080/"
        },
        "id": "8GTlQxip72bQ",
        "outputId": "b71826f4-7c82-4b8e-c004-f046e4610c00"
      },
      "outputs": [
        {
          "name": "stdout",
          "output_type": "stream",
          "text": [
            "tensor([[2, 3],\n",
            "        [5, 7]])\n",
            "tensor([[17, 17],\n",
            "        [17, 17]])\n",
            "tensor(17)\n",
            "l is tensor([[ 1,  4],\n",
            "        [16, 36]])\n",
            "tensor(57)\n"
          ]
        }
      ],
      "source": [
        "F=torch.tensor([[1,1],[1,1]])\n",
        "G=torch.tensor([[2,3],[5,7]])\n",
        "\n",
        "#What are the outputs to:\n",
        "print(F*G)\n",
        "print(F*G.sum()) # equivalent to print(F* ( G.sum() ) )\n",
        "print((F*G).sum())\n",
        "\n",
        "l = (F-G)**2\n",
        "print(f'l is {l}')\n",
        "print(l.sum())"
      ]
    },
    {
      "cell_type": "markdown",
      "metadata": {
        "id": "50iEGLTA72bR"
      },
      "source": [
        "2.3 (Section 2.1.4)\n",
        "\n",
        "a. Write code to obtain the following element(s) of matrix A:\n",
        "\n",
        "- First row\n",
        "\n",
        "- Last row\n",
        "\n",
        "- row 2 column 2 element\n",
        "\n",
        "- third column"
      ]
    },
    {
      "cell_type": "code",
      "execution_count": 24,
      "metadata": {
        "colab": {
          "base_uri": "https://localhost:8080/"
        },
        "id": "-3gaVRBL72bR",
        "outputId": "8d7c2f18-bded-4ffd-f7c8-3cb3144ac9fe"
      },
      "outputs": [
        {
          "name": "stdout",
          "output_type": "stream",
          "text": [
            "tensor([[0., 1., 2., 3., 4.],\n",
            "        [5., 6., 7., 8., 9.]])\n",
            "\n",
            "1st row is tensor([0., 1., 2., 3., 4.]) \n",
            "\n",
            "last row is tensor([5., 6., 7., 8., 9.]) \n",
            "\n",
            "(2,2) element is 6.0\n",
            "\n",
            "3rd column is tensor([2., 7.])\n"
          ]
        }
      ],
      "source": [
        "print(A)\n",
        "print(f\"\\n1st row is {A[0]} \\n\")\n",
        "print(f\"last row is {A[-1]} \\n\")\n",
        "print(f\"(2,2) element is {A[1,1]}\\n\")\n",
        "print(f\"3rd column is {A[:,2]}\")\n"
      ]
    },
    {
      "cell_type": "markdown",
      "metadata": {
        "id": "mk16jwqR72bR"
      },
      "source": [
        "b. (3d tensor) Create a tensor with integers from 0 to 7 where there are 2 blocks of 2x2 matrices. Use `arange` and `reshape`. Call it E.\n",
        "\n",
        "- How many axes does this tensor have?\n",
        "\n",
        "- Display the 2nd element which is a matrix\n",
        "\n",
        "- Without using code, what will be returned by the code E[0,1,0]? Verify by running the code.\n",
        "\n",
        "- Write the code that will output from E the tensor [4,5]."
      ]
    },
    {
      "cell_type": "code",
      "execution_count": 25,
      "metadata": {
        "colab": {
          "base_uri": "https://localhost:8080/"
        },
        "id": "S4PPG6Y872bR",
        "outputId": "d22fd7d1-a745-4249-ea71-ed43a4366563"
      },
      "outputs": [
        {
          "name": "stdout",
          "output_type": "stream",
          "text": [
            "tensor([[[0, 1],\n",
            "         [2, 3]],\n",
            "\n",
            "        [[4, 5],\n",
            "         [6, 7]]])\n",
            "torch.Size([2, 2, 2])\n",
            "Output [4,5] is obtained by running E[1,0]\n"
          ]
        },
        {
          "data": {
            "text/plain": [
              "tensor([[4, 5],\n",
              "        [6, 7]])"
            ]
          },
          "execution_count": 25,
          "metadata": {},
          "output_type": "execute_result"
        }
      ],
      "source": [
        "E = torch.arange(8).reshape((2,2,-1))\n",
        "print(E)\n",
        "print(E.shape) # Number of axes = 3\n",
        "E[0,1,0]\n",
        "print(f\"Output [4,5] is obtained by running E[1,0]\")\n",
        "E[0,:,:]\n",
        "\n",
        "E[1,:,:]\n"
      ]
    },
    {
      "cell_type": "markdown",
      "metadata": {
        "id": "K6uUxJlu72bR"
      },
      "source": [
        "2.4 (Section 2.3.6 p59)\n",
        "\n",
        "a0. Use `sum` to find the sum of the elements of the tensor x in Activity 1. (How is `sum(x)` different to `x.sum()`?)\n",
        "\n",
        "a. Sum across the rows of matrix A. What is the size of the resulting tensor?\n",
        "\n",
        "b. Sum across all elements of A. What is the size of the resulting tensor? Do this two ways: using `torch.sum` (not in book), and `sum`.\n",
        "\n",
        "c. Compute the mean of all the elements A. (The dtype must be floating point. If you didn't do so already, add `dtype=torch.float32` when you created A.)\n",
        "\n",
        "d. (Reduction and non-reduction sum). Compute the mean of the first row of A in such a way that one axis is lost, and then in a way where you keep all the axes."
      ]
    },
    {
      "cell_type": "code",
      "execution_count": 26,
      "metadata": {
        "colab": {
          "base_uri": "https://localhost:8080/"
        },
        "id": "BcvoWRYV72bR",
        "outputId": "7fe7f609-68cd-4d4b-979d-14e3978c8f6b"
      },
      "outputs": [
        {
          "name": "stdout",
          "output_type": "stream",
          "text": [
            "sum of x is 15\n",
            "tensor([[0., 1., 2., 3., 4.],\n",
            "        [5., 6., 7., 8., 9.]])\n"
          ]
        },
        {
          "data": {
            "text/plain": [
              "torch.Size([2, 1])"
            ]
          },
          "execution_count": 26,
          "metadata": {},
          "output_type": "execute_result"
        }
      ],
      "source": [
        "#a0\n",
        "print(f\"sum of x is {x.sum()}\")\n",
        "# x.sum() works on a tensor.\n",
        "\n",
        "#a\n",
        "print(A)\n",
        "#A.sum(dim=1)\n",
        "#A.sum(1).shape  #size = nrows = 2\n",
        "\n",
        "#b\n",
        "torch.sum(A)\n",
        "A.sum(axis=[0,1])\n",
        "\n",
        "#c\n",
        "A=torch.arange(10,).reshape(-1,5)\n",
        "#A.mean() # error as dtype not floating point\n",
        "A=torch.arange(10, dtype=torch.float32).reshape(-1,5)\n",
        "A.mean()\n",
        "\n",
        "#d\n",
        "A.mean(axis=1)\n",
        "A.mean(axis=1).shape  #1 axis\n",
        "A.mean(axis=1,keepdims=True)\n",
        "A.mean(axis=1,keepdims=True).shape #2 axes"
      ]
    },
    {
      "cell_type": "markdown",
      "metadata": {
        "id": "ITK7kq7j72bS"
      },
      "source": [
        "2.5 Suppose you have a model that has generated predictions `yhat=torch.tensor([2,2,2])`.The observations are `y=torch.tensor([1,6,2])`. Write code that outputs the residual sum of squares (RSS) given by\n",
        "\n",
        "$$\n",
        "\\text{RSS} = \\sum_{i=1}^n(y_i-\\hat{y}_i)^2\n",
        "$$"
      ]
    },
    {
      "cell_type": "code",
      "execution_count": 27,
      "metadata": {
        "id": "5dRPkRoI72bS",
        "outputId": "17795c87-65ff-4f75-fb56-c4ada801879f"
      },
      "outputs": [
        {
          "data": {
            "text/plain": [
              "tensor(17)"
            ]
          },
          "execution_count": 27,
          "metadata": {},
          "output_type": "execute_result"
        }
      ],
      "source": [
        "#2.5\n",
        "y = torch.tensor([1,6,2])\n",
        "yhat = torch.tensor([2,2,2])\n",
        "l = (y-yhat)**2  #vector of squared difference for each observation\n",
        "l.sum()   #RSS"
      ]
    },
    {
      "cell_type": "markdown",
      "metadata": {
        "id": "M5LcqUFY72bS"
      },
      "source": [
        "If you have time, look at the following in class, otherwise do it in your own time.\n",
        "\n",
        "2.6 There are a number of different ways to multiply in linear algebra. Work through (by trying similar examples from the book) Section 2.3.7 (dot products), 2.3.8(Matrix-vector products),2.3.9 (Matrix-matrix multiplication)\n",
        "\n",
        "2.7 Section 2.4 calculus. Just need to know the math from this.\n",
        "\n",
        "2.8 Study the following tensor operations:"
      ]
    },
    {
      "cell_type": "code",
      "execution_count": 28,
      "metadata": {
        "colab": {
          "base_uri": "https://localhost:8080/"
        },
        "id": "-IoI1gjE72bS",
        "outputId": "fcb37735-b110-4d9c-e02f-9c1afedbe97a"
      },
      "outputs": [
        {
          "name": "stdout",
          "output_type": "stream",
          "text": [
            "tensor([[0., 0., 0., 0., 0.],\n",
            "        [0., 0., 0., 0., 0.]])\n",
            "tensor([[-1.0399,  0.5931, -0.0092,  0.4597, -0.5789],\n",
            "        [-0.6114,  1.0012, -0.3074, -0.0964,  0.8330]])\n",
            "tensor([[0., 0., 0., 0., 0.],\n",
            "        [0., 0., 0., 0., 0.]])\n",
            "tensor([[-1.1162, -1.7039, -0.7843,  0.3339, -0.7833],\n",
            "        [-1.1815,  0.2252, -0.6599,  0.7028, -1.0351]])\n",
            "tensor([[-1.2325, -2.4079, -0.5686,  1.6678, -0.5667],\n",
            "        [-1.3629,  1.4503, -0.3198,  2.4056, -1.0703]])\n",
            "tensor([[-1.1162, -1.7039, -0.7843,  0.3339, -0.7833],\n",
            "        [-1.1815,  0.2252, -0.6599,  0.7028, -1.0351]])\n"
          ]
        }
      ],
      "source": [
        "#Q8: Tensor operations\n",
        "C = torch.zeros(2,5,dtype=torch.float32)\n",
        "print(C)\n",
        "print(C.new_empty(C.size()).normal_()) # does not affect the memory of C\n",
        "print(C)\n",
        "C1 = C.new_empty(C.size()).normal_()\n",
        "print(C1)\n",
        "print(C1.mul(2).add(1))\n",
        "C1.mul(2).add(1)\n",
        "print(C1)"
      ]
    },
    {
      "cell_type": "markdown",
      "metadata": {
        "id": "81WDAEJauTFb"
      },
      "source": [
        "It is important to understand what operations are done in-place."
      ]
    },
    {
      "cell_type": "markdown",
      "metadata": {
        "id": "L-RjIfNz72bT"
      },
      "source": [
        "### Activity 3 - Pandas\n",
        "\n",
        "Review Section 2.2.1-2.2.3\n",
        "\n",
        "-  (2.2.1) reading in data in csv format\n",
        "-  (2.2.2) handling missing data by imputation\n",
        "-  (2.2.3) conversion variables in panda to tensors\n",
        "\n",
        "3.1 Create a 1d tensor `tensor([2, 3, 4])` using `arange`. Use `type` which we expect to be a tensor.\n",
        "Convert it to a numpy array. For this you need to first `import numpy`."
      ]
    },
    {
      "cell_type": "code",
      "execution_count": 29,
      "metadata": {
        "id": "dZed9yE172bT",
        "outputId": "434a07ec-6a07-495b-8fd2-2c5099ef4802"
      },
      "outputs": [
        {
          "name": "stdout",
          "output_type": "stream",
          "text": [
            "tensor([2, 3, 4])\n"
          ]
        },
        {
          "data": {
            "text/plain": [
              "torch.Tensor"
            ]
          },
          "execution_count": 29,
          "metadata": {},
          "output_type": "execute_result"
        }
      ],
      "source": [
        "a = torch.arange(2,5)\n",
        "print(a)\n",
        "type(a)"
      ]
    },
    {
      "cell_type": "code",
      "execution_count": 30,
      "metadata": {
        "id": "_z7y3InH72bT"
      },
      "outputs": [],
      "source": [
        "import numpy as np"
      ]
    },
    {
      "cell_type": "code",
      "execution_count": 31,
      "metadata": {
        "id": "50d2_0sn72bT",
        "outputId": "0686d930-d0a8-436b-f398-01e8b4d61691"
      },
      "outputs": [
        {
          "data": {
            "text/plain": [
              "numpy.ndarray"
            ]
          },
          "execution_count": 31,
          "metadata": {},
          "output_type": "execute_result"
        }
      ],
      "source": [
        "a_np = a.numpy()\n",
        "type(a_np)"
      ]
    },
    {
      "cell_type": "markdown",
      "metadata": {
        "id": "-ekzh95z72bT"
      },
      "source": [
        "## 2.5 Automatic differentiation\n",
        "\n",
        "This section contains the idea behind how we train neural nets.\n",
        "We will see the details in Lecture 2. This section gives you a simple demo.\n",
        "\n",
        "The [`autograd` package](http://pytorch.org/docs/autograd) provides automatic differentiation of **scalar valued functions**. We use it to specify learnable parameters of a model for PyTorch's optimizers to update. This set-up is exactly what we want for deep learning.\n",
        "\n",
        "The learnable parameters must be of floating point tensor types (or complex tensor type, but this isn't relevant for this course).\n",
        "\n",
        "Demo\n",
        "\n",
        "1. First create the inputs $x$ and $y$ with values at which we wish to know the derivative, and attach gradients to those variables with respect to which we want partial derivative. We can do this by adding `requires_grad=True` to torch tensors.\n",
        "2. Create the function. In this course our objective function - the loss function - is a scalar function (i.e. output is a scalar), so we will consider only scalar functions.\n",
        "3. Obtain the derivatives by running the function for backpropagation.\n",
        "\n",
        "You can then access the gradient, for example by printing it."
      ]
    },
    {
      "cell_type": "code",
      "execution_count": 32,
      "metadata": {
        "colab": {
          "base_uri": "https://localhost:8080/"
        },
        "id": "UEywlKwQ72bT",
        "outputId": "0e80d8c4-e725-4d77-c66d-c2e9cd546cb1"
      },
      "outputs": [
        {
          "name": "stdout",
          "output_type": "stream",
          "text": [
            "tensor([2., 0.], requires_grad=True)\n",
            "tensor([0., 3.], requires_grad=True)\n"
          ]
        }
      ],
      "source": [
        "#1\n",
        "x = torch.tensor([2.,0],requires_grad=True)\n",
        "y = torch.tensor([0.,3.],requires_grad=True)\n",
        "print(x)\n",
        "print(y)"
      ]
    },
    {
      "cell_type": "code",
      "execution_count": 33,
      "metadata": {
        "colab": {
          "base_uri": "https://localhost:8080/"
        },
        "id": "ehUOCNc272bT",
        "outputId": "d605edaa-7858-4b92-a74f-c7322c1a2a33"
      },
      "outputs": [
        {
          "name": "stdout",
          "output_type": "stream",
          "text": [
            "tensor([ 4., 27.], grad_fn=<AddBackward0>)\n"
          ]
        }
      ],
      "source": [
        "#2\n",
        "# Here I am creating a function s = x1^2+x2^2+y1^3+y2^3\n",
        "# The question: what is the partial derivative of s w.r.t the parameters\n",
        "# which are : x1,x2,y1,y2 computed at x1=2,x2=0,y1=0,y2=3?\n",
        "# This is answered by automatic differentiation algorithm backward().\n",
        "\n",
        "z = x**2 + y**3\n",
        "s = z.sum()\n",
        "print(z)"
      ]
    },
    {
      "cell_type": "markdown",
      "metadata": {
        "id": "xB1GzX5L72bU"
      },
      "source": [
        "`z` and `s` were created as a result of an operation on tensors, so has a`grad_fn`."
      ]
    },
    {
      "cell_type": "code",
      "execution_count": 34,
      "metadata": {
        "colab": {
          "base_uri": "https://localhost:8080/"
        },
        "id": "nPywrdwt72bU",
        "outputId": "f08e49d7-86f6-4ed2-8181-44d6260d1d06"
      },
      "outputs": [
        {
          "name": "stdout",
          "output_type": "stream",
          "text": [
            "<AddBackward0 object at 0x11f05a8e0>\n",
            "<SumBackward0 object at 0x1075fafd0>\n",
            "None\n",
            "None\n",
            "None\n",
            "None\n"
          ]
        }
      ],
      "source": [
        "#Each variable has a .grad_fn attribute that references a function that has\n",
        "#created a function (except for Tensors created by the user - these have None as .grad_fn).\n",
        "print(z.grad_fn)\n",
        "print(s.grad_fn)\n",
        "print(x.grad_fn)\n",
        "print(x.grad)\n",
        "print(y.grad_fn)\n",
        "print(y.grad)"
      ]
    },
    {
      "cell_type": "code",
      "execution_count": 35,
      "metadata": {
        "colab": {
          "base_uri": "https://localhost:8080/"
        },
        "id": "86B5rF9u72bU",
        "outputId": "ef84d4d3-459c-4dd7-e192-93e5977c90c4"
      },
      "outputs": [
        {
          "name": "stdout",
          "output_type": "stream",
          "text": [
            "None\n",
            "tensor([4., 0.])\n",
            "tensor([ 0., 27.])\n"
          ]
        }
      ],
      "source": [
        "#3\n",
        "#Reset gradients if re-running step 2 (the forward pass)\n",
        "#y.grad.zero_()\n",
        "#x.grad.zero_()\n",
        "\n",
        "s.backward() #obtains derivatives w.r.t. the learnable parameters x,y\n",
        "\n",
        "print(x.grad_fn)\n",
        "print(x.grad) #contains the partial derivatives of s w.r.t x computed at values of x\n",
        "print(y.grad)"
      ]
    },
    {
      "cell_type": "markdown",
      "metadata": {
        "id": "BKGsl2NrE_uO"
      },
      "source": [
        "The codes in step 1-3 defines a **computational graph**. `Autograd` supports automatic computation of gradient for any computational graph.\n",
        "\n",
        "We can view the PyTorch graph using `torchviz` package."
      ]
    },
    {
      "cell_type": "code",
      "execution_count": 36,
      "metadata": {
        "id": "cp_Tgzh_72bU"
      },
      "outputs": [],
      "source": [
        "# Need to install torchviz if using either Jupyter or Colab\n",
        "# !pip install torchviz\n",
        "from torchviz import make_dot"
      ]
    },
    {
      "cell_type": "code",
      "execution_count": 37,
      "metadata": {
        "colab": {
          "base_uri": "https://localhost:8080/",
          "height": 456
        },
        "id": "U7UdGoxsEfI3",
        "outputId": "b05c6373-0ff7-4a9b-c6a1-af7df897e704"
      },
      "outputs": [
        {
          "data": {
            "image/svg+xml": [
              "<?xml version=\"1.0\" encoding=\"UTF-8\" standalone=\"no\"?>\n",
              "<!DOCTYPE svg PUBLIC \"-//W3C//DTD SVG 1.1//EN\"\n",
              " \"http://www.w3.org/Graphics/SVG/1.1/DTD/svg11.dtd\">\n",
              "<!-- Generated by graphviz version 12.2.1 (20241206.2353)\n",
              " -->\n",
              "<!-- Pages: 1 -->\n",
              "<svg width=\"226pt\" height=\"337pt\"\n",
              " viewBox=\"0.00 0.00 226.00 336.50\" xmlns=\"http://www.w3.org/2000/svg\" xmlns:xlink=\"http://www.w3.org/1999/xlink\">\n",
              "<g id=\"graph0\" class=\"graph\" transform=\"scale(1 1) rotate(0) translate(4 332.5)\">\n",
              "<polygon fill=\"white\" stroke=\"none\" points=\"-4,4 -4,-332.5 222,-332.5 222,4 -4,4\"/>\n",
              "<!-- 4815522848 -->\n",
              "<g id=\"node1\" class=\"node\">\n",
              "<title>4815522848</title>\n",
              "<polygon fill=\"#caff70\" stroke=\"black\" points=\"136,-32.75 82,-32.75 82,0 136,0 136,-32.75\"/>\n",
              "<text text-anchor=\"middle\" x=\"109\" y=\"-7.25\" font-family=\"monospace\" font-size=\"10.00\"> ()</text>\n",
              "</g>\n",
              "<!-- 4820969648 -->\n",
              "<g id=\"node2\" class=\"node\">\n",
              "<title>4820969648</title>\n",
              "<polygon fill=\"lightgrey\" stroke=\"black\" points=\"153,-89.5 65,-89.5 65,-68.75 153,-68.75 153,-89.5\"/>\n",
              "<text text-anchor=\"middle\" x=\"109\" y=\"-76\" font-family=\"monospace\" font-size=\"10.00\">SumBackward0</text>\n",
              "</g>\n",
              "<!-- 4820969648&#45;&gt;4815522848 -->\n",
              "<g id=\"edge8\" class=\"edge\">\n",
              "<title>4820969648&#45;&gt;4815522848</title>\n",
              "<path fill=\"none\" stroke=\"black\" d=\"M109,-68.36C109,-61.89 109,-53.05 109,-44.55\"/>\n",
              "<polygon fill=\"black\" stroke=\"black\" points=\"112.5,-44.55 109,-34.55 105.5,-44.55 112.5,-44.55\"/>\n",
              "</g>\n",
              "<!-- 4820969744 -->\n",
              "<g id=\"node3\" class=\"node\">\n",
              "<title>4820969744</title>\n",
              "<polygon fill=\"lightgrey\" stroke=\"black\" points=\"153,-146.25 65,-146.25 65,-125.5 153,-125.5 153,-146.25\"/>\n",
              "<text text-anchor=\"middle\" x=\"109\" y=\"-132.75\" font-family=\"monospace\" font-size=\"10.00\">AddBackward0</text>\n",
              "</g>\n",
              "<!-- 4820969744&#45;&gt;4820969648 -->\n",
              "<g id=\"edge1\" class=\"edge\">\n",
              "<title>4820969744&#45;&gt;4820969648</title>\n",
              "<path fill=\"none\" stroke=\"black\" d=\"M109,-125.09C109,-118.47 109,-109.47 109,-101.27\"/>\n",
              "<polygon fill=\"black\" stroke=\"black\" points=\"112.5,-101.34 109,-91.34 105.5,-101.34 112.5,-101.34\"/>\n",
              "</g>\n",
              "<!-- 4820969552 -->\n",
              "<g id=\"node4\" class=\"node\">\n",
              "<title>4820969552</title>\n",
              "<polygon fill=\"lightgrey\" stroke=\"black\" points=\"100,-203 12,-203 12,-182.25 100,-182.25 100,-203\"/>\n",
              "<text text-anchor=\"middle\" x=\"56\" y=\"-189.5\" font-family=\"monospace\" font-size=\"10.00\">PowBackward0</text>\n",
              "</g>\n",
              "<!-- 4820969552&#45;&gt;4820969744 -->\n",
              "<g id=\"edge2\" class=\"edge\">\n",
              "<title>4820969552&#45;&gt;4820969744</title>\n",
              "<path fill=\"none\" stroke=\"black\" d=\"M65.48,-181.84C72.79,-174.28 83.09,-163.64 91.84,-154.6\"/>\n",
              "<polygon fill=\"black\" stroke=\"black\" points=\"94.11,-157.29 98.55,-147.67 89.08,-152.42 94.11,-157.29\"/>\n",
              "</g>\n",
              "<!-- 4820969840 -->\n",
              "<g id=\"node5\" class=\"node\">\n",
              "<title>4820969840</title>\n",
              "<polygon fill=\"lightgrey\" stroke=\"black\" points=\"100,-259.75 0,-259.75 0,-239 100,-239 100,-259.75\"/>\n",
              "<text text-anchor=\"middle\" x=\"50\" y=\"-246.25\" font-family=\"monospace\" font-size=\"10.00\">AccumulateGrad</text>\n",
              "</g>\n",
              "<!-- 4820969840&#45;&gt;4820969552 -->\n",
              "<g id=\"edge3\" class=\"edge\">\n",
              "<title>4820969840&#45;&gt;4820969552</title>\n",
              "<path fill=\"none\" stroke=\"black\" d=\"M51.07,-238.59C51.8,-231.97 52.78,-222.97 53.68,-214.77\"/>\n",
              "<polygon fill=\"black\" stroke=\"black\" points=\"57.16,-215.15 54.77,-204.83 50.2,-214.39 57.16,-215.15\"/>\n",
              "</g>\n",
              "<!-- 4420352176 -->\n",
              "<g id=\"node6\" class=\"node\">\n",
              "<title>4420352176</title>\n",
              "<polygon fill=\"lightblue\" stroke=\"black\" points=\"77,-328.5 23,-328.5 23,-295.75 77,-295.75 77,-328.5\"/>\n",
              "<text text-anchor=\"middle\" x=\"50\" y=\"-303\" font-family=\"monospace\" font-size=\"10.00\"> (2)</text>\n",
              "</g>\n",
              "<!-- 4420352176&#45;&gt;4820969840 -->\n",
              "<g id=\"edge4\" class=\"edge\">\n",
              "<title>4420352176&#45;&gt;4820969840</title>\n",
              "<path fill=\"none\" stroke=\"black\" d=\"M50,-295.48C50,-288.1 50,-279.18 50,-271.24\"/>\n",
              "<polygon fill=\"black\" stroke=\"black\" points=\"53.5,-271.41 50,-261.41 46.5,-271.41 53.5,-271.41\"/>\n",
              "</g>\n",
              "<!-- 4820969408 -->\n",
              "<g id=\"node7\" class=\"node\">\n",
              "<title>4820969408</title>\n",
              "<polygon fill=\"lightgrey\" stroke=\"black\" points=\"209,-203 121,-203 121,-182.25 209,-182.25 209,-203\"/>\n",
              "<text text-anchor=\"middle\" x=\"165\" y=\"-189.5\" font-family=\"monospace\" font-size=\"10.00\">PowBackward0</text>\n",
              "</g>\n",
              "<!-- 4820969408&#45;&gt;4820969744 -->\n",
              "<g id=\"edge5\" class=\"edge\">\n",
              "<title>4820969408&#45;&gt;4820969744</title>\n",
              "<path fill=\"none\" stroke=\"black\" d=\"M154.99,-181.84C147.26,-174.28 136.37,-163.64 127.13,-154.6\"/>\n",
              "<polygon fill=\"black\" stroke=\"black\" points=\"129.6,-152.12 120.01,-147.64 124.71,-157.13 129.6,-152.12\"/>\n",
              "</g>\n",
              "<!-- 4820969888 -->\n",
              "<g id=\"node8\" class=\"node\">\n",
              "<title>4820969888</title>\n",
              "<polygon fill=\"lightgrey\" stroke=\"black\" points=\"218,-259.75 118,-259.75 118,-239 218,-239 218,-259.75\"/>\n",
              "<text text-anchor=\"middle\" x=\"168\" y=\"-246.25\" font-family=\"monospace\" font-size=\"10.00\">AccumulateGrad</text>\n",
              "</g>\n",
              "<!-- 4820969888&#45;&gt;4820969408 -->\n",
              "<g id=\"edge6\" class=\"edge\">\n",
              "<title>4820969888&#45;&gt;4820969408</title>\n",
              "<path fill=\"none\" stroke=\"black\" d=\"M167.46,-238.59C167.1,-231.97 166.61,-222.97 166.16,-214.77\"/>\n",
              "<polygon fill=\"black\" stroke=\"black\" points=\"169.66,-214.63 165.61,-204.84 162.67,-215.02 169.66,-214.63\"/>\n",
              "</g>\n",
              "<!-- 4815682112 -->\n",
              "<g id=\"node9\" class=\"node\">\n",
              "<title>4815682112</title>\n",
              "<polygon fill=\"lightblue\" stroke=\"black\" points=\"195,-328.5 141,-328.5 141,-295.75 195,-295.75 195,-328.5\"/>\n",
              "<text text-anchor=\"middle\" x=\"168\" y=\"-303\" font-family=\"monospace\" font-size=\"10.00\"> (2)</text>\n",
              "</g>\n",
              "<!-- 4815682112&#45;&gt;4820969888 -->\n",
              "<g id=\"edge7\" class=\"edge\">\n",
              "<title>4815682112&#45;&gt;4820969888</title>\n",
              "<path fill=\"none\" stroke=\"black\" d=\"M168,-295.48C168,-288.1 168,-279.18 168,-271.24\"/>\n",
              "<polygon fill=\"black\" stroke=\"black\" points=\"171.5,-271.41 168,-261.41 164.5,-271.41 171.5,-271.41\"/>\n",
              "</g>\n",
              "</g>\n",
              "</svg>\n"
            ],
            "text/plain": [
              "<graphviz.graphs.Digraph at 0x11f5a2820>"
            ]
          },
          "execution_count": 37,
          "metadata": {},
          "output_type": "execute_result"
        }
      ],
      "source": [
        "make_dot(s)"
      ]
    },
    {
      "cell_type": "markdown",
      "metadata": {
        "id": "AgbDY69L72bV"
      },
      "source": [
        "\n",
        "### Activity 4\n",
        "\n",
        "1.In the above example:\n",
        "\n",
        "a. What happens to the derivatives w.r.t inputs if we remove `requires_grad=True` from $y$?\n",
        "\n",
        "b. After running the code through once, run again steps 2 and 3? Explain the values you see for the gradients.\n",
        "Look in Section 2.5.1 to see what we should add in step 2 to reset the gradients.\n",
        "\n",
        "\n",
        "2.What is the derivative of $y = 2\\mathbf{x}^{\\top}\\mathbf{x}$ with respect to the column vector $\\mathbf{x}$?\n",
        "Now study and repeat the toy example in Section 2.5.1. relating to computing the derivative for this function.\n",
        "\n",
        "3.Work through the notebooks accompanying the text for Section 2.5.2.(Backward for non-scalar variables), and Section 2.5.3. (Detaching computation).\n",
        "(We will use detach when we in the gradient descent algorithm.)"
      ]
    },
    {
      "cell_type": "code",
      "execution_count": null,
      "metadata": {
        "id": "9FwD9soc72bV"
      },
      "outputs": [],
      "source": [
        "# 1a. y becomes a constant, so there is no derivative w.r.t y. If you remove all learnable parameters, the graph\n",
        "# does not track the history of the computation of the parameters.\n",
        "# b. The values of the gradients are wrong. When rerun the previous results are accumulated.\n",
        "# Reset gradients with <object>.grad.zero_() before calling .backward()\n",
        "\n",
        "# 2. the derivative w.r.t vector x is 4x. (See Section 2.4.3 p70)\n"
      ]
    },
    {
      "cell_type": "markdown",
      "metadata": {
        "id": "172vD2tf72bV"
      },
      "source": [
        "### Activity 5\n",
        "\n",
        "The aim is understand the function in Section 2.5.4 and serves as a review of loops.\n",
        "\n",
        "The code below is a simplified version of the function in Section 2.5.4\n",
        "\n",
        "1.Without running the code, what is the output that will be displayed? Verify by running the program.\n",
        "If you can't figure out what the code is doing, use Python Tutor to break down the steps. (Paste the code into [Python Tutor](https://pythontutor.com/python-debugger.html#mode=edit)).\n",
        "\n",
        "2.Now analyse the program in Section 2.5.4. (The documentation for `norm` recommends replacing it by `torch.linalg.vector_norm`. Does it matter to replace `b.sum()` by `b`?)"
      ]
    },
    {
      "cell_type": "code",
      "execution_count": 38,
      "metadata": {
        "colab": {
          "base_uri": "https://localhost:8080/"
        },
        "id": "rKxutgRC72bV",
        "outputId": "d3ccb00c-8e0a-4d2d-904a-23ff0fcff57b"
      },
      "outputs": [
        {
          "name": "stdout",
          "output_type": "stream",
          "text": [
            "-40.0\n"
          ]
        }
      ],
      "source": [
        "def f(a):\n",
        "    b = a * 2\n",
        "    while abs(b) < 4:\n",
        "        b = b * 2\n",
        "    if b > 0:\n",
        "        c = b\n",
        "    else:\n",
        "        c = 10 * b\n",
        "    return c\n",
        "\n",
        "a = -2.0\n",
        "d = f(a)\n",
        "print(d)"
      ]
    },
    {
      "cell_type": "code",
      "execution_count": 39,
      "metadata": {
        "colab": {
          "base_uri": "https://localhost:8080/",
          "height": 564
        },
        "id": "LrolvEcc3uBz",
        "outputId": "5d099375-c3ee-4b33-d029-e660646029e9"
      },
      "outputs": [
        {
          "data": {
            "image/png": "[encoded data removed]",
            "text/plain": [
              "<Figure size 800x600 with 1 Axes>"
            ]
          },
          "metadata": {},
          "output_type": "display_data"
        }
      ],
      "source": [
        "import numpy as np\n",
        "import matplotlib.pyplot as plt\n",
        "\n",
        "# Generate values for a\n",
        "a_values = np.linspace(-10, 10, 4000)\n",
        "f_values = np.array([f(a) for a in a_values])\n",
        "grad_values = np.gradient(f_values,a_values)\n",
        "\n",
        "# Plot the function\n",
        "plt.figure(figsize=(8, 6))\n",
        "plt.plot(a_values, f_values, label='f(a)', color='blue')\n",
        "plt.axhline(0, color='black', linewidth=0.8)\n",
        "plt.axvline(0, color='black', linewidth=0.8)\n",
        "plt.title('Plot of f(a)')\n",
        "plt.xlabel('a')\n",
        "plt.ylabel('f(a)')\n",
        "plt.grid(True)\n",
        "plt.legend()\n",
        "plt.show()\n"
      ]
    },
    {
      "cell_type": "code",
      "execution_count": 40,
      "metadata": {
        "colab": {
          "base_uri": "https://localhost:8080/",
          "height": 430
        },
        "id": "hbhNHM-d4mYW",
        "outputId": "f2361428-78a2-4dfe-f150-156d41489d6e"
      },
      "outputs": [
        {
          "data": {
            "image/png": "[encoded data removed]",
            "text/plain": [
              "<Figure size 640x480 with 1 Axes>"
            ]
          },
          "metadata": {},
          "output_type": "display_data"
        }
      ],
      "source": [
        "plt.plot(a_values, grad_values, label='grad', color='red')\n",
        "plt.show()"
      ]
    },
    {
      "cell_type": "code",
      "execution_count": 41,
      "metadata": {
        "colab": {
          "base_uri": "https://localhost:8080/"
        },
        "id": "rsqIubTguTFc",
        "outputId": "049a2f7e-231f-4ba2-c238-949a695fcea7"
      },
      "outputs": [
        {
          "name": "stdout",
          "output_type": "stream",
          "text": [
            "tensor(-0.6597, requires_grad=True) tensor(-52.7750, grad_fn=<MulBackward0>)\n",
            "tensor(80.)\n",
            "tensor(True)\n"
          ]
        }
      ],
      "source": [
        "a = torch.randn(size=(), requires_grad=True)\n",
        "d = f(a)\n",
        "d.backward()\n",
        "print(a, d)\n",
        "print(a.grad)\n",
        "print(a.grad == d/a)"
      ]
    },
    {
      "cell_type": "code",
      "execution_count": 42,
      "metadata": {
        "colab": {
          "base_uri": "https://localhost:8080/"
        },
        "id": "G_UKSFbszEmt",
        "outputId": "05eba765-f57b-4a0e-8179-1a6ffebb39b0"
      },
      "outputs": [
        {
          "name": "stdout",
          "output_type": "stream",
          "text": [
            "tensor([2.], requires_grad=True) tensor([4.], grad_fn=<MulBackward0>)\n",
            "tensor([2.])\n",
            "tensor([True])\n"
          ]
        }
      ],
      "source": [
        "a = torch.tensor([2.0], requires_grad=True)\n",
        "d = f(a)\n",
        "d.backward()\n",
        "print(a, d)\n",
        "print(a.grad)\n",
        "print(a.grad == d/a)"
      ]
    },
    {
      "cell_type": "code",
      "execution_count": 43,
      "metadata": {
        "colab": {
          "base_uri": "https://localhost:8080/"
        },
        "id": "4gdc-smmzJYN",
        "outputId": "720a1568-03e8-4692-b6e1-f6d0cd174dd5"
      },
      "outputs": [
        {
          "name": "stdout",
          "output_type": "stream",
          "text": [
            "tensor([-0.5000], requires_grad=True) tensor([-40.], grad_fn=<MulBackward0>)\n",
            "tensor([80.])\n",
            "tensor([True])\n"
          ]
        }
      ],
      "source": [
        "a = torch.tensor([-0.5], requires_grad=True)\n",
        "d = f(a)\n",
        "d.backward()\n",
        "print(a, d)\n",
        "print(a.grad)\n",
        "print(a.grad == d/a)"
      ]
    },
    {
      "cell_type": "markdown",
      "metadata": {
        "id": "yCS3qMiq49My"
      },
      "source": [
        "The insight is that, auto-differentiation works for python control flow. You could check the documentation if you are interested."
      ]
    },
    {
      "cell_type": "markdown",
      "metadata": {
        "id": "z2CQcRMd0qzK"
      },
      "source": [
        "# More examples"
      ]
    },
    {
      "cell_type": "code",
      "execution_count": 44,
      "metadata": {
        "colab": {
          "base_uri": "https://localhost:8080/"
        },
        "id": "8q5h8Nvhzxy8",
        "outputId": "6d90b923-1d58-45a0-d7e6-e09e9830f4b3"
      },
      "outputs": [
        {
          "data": {
            "text/plain": [
              "tensor([0., 1., 2., 3.])"
            ]
          },
          "execution_count": 44,
          "metadata": {},
          "output_type": "execute_result"
        }
      ],
      "source": [
        "x = torch.arange(4.0)\n",
        "x"
      ]
    },
    {
      "cell_type": "code",
      "execution_count": 45,
      "metadata": {
        "id": "9OCCr2dU0Aob"
      },
      "outputs": [],
      "source": [
        "x.requires_grad_(True)\n",
        "x.grad  # The default value is None"
      ]
    },
    {
      "cell_type": "code",
      "execution_count": 46,
      "metadata": {
        "colab": {
          "base_uri": "https://localhost:8080/"
        },
        "id": "flciPM5f0baP",
        "outputId": "ec45741c-37c7-4e59-ffa5-04d73a73d6d4"
      },
      "outputs": [
        {
          "data": {
            "text/plain": [
              "tensor(28., grad_fn=<MulBackward0>)"
            ]
          },
          "execution_count": 46,
          "metadata": {},
          "output_type": "execute_result"
        }
      ],
      "source": [
        "y = 2 * torch.dot(x, x)\n",
        "y"
      ]
    },
    {
      "cell_type": "code",
      "execution_count": 47,
      "metadata": {
        "colab": {
          "base_uri": "https://localhost:8080/"
        },
        "id": "bZ9iFoT-0hHK",
        "outputId": "dc3f2c37-7762-4d93-8326-85ed778a4d83"
      },
      "outputs": [
        {
          "data": {
            "text/plain": [
              "tensor([ 0.,  4.,  8., 12.])"
            ]
          },
          "execution_count": 47,
          "metadata": {},
          "output_type": "execute_result"
        }
      ],
      "source": [
        "y.backward()\n",
        "x.grad"
      ]
    },
    {
      "cell_type": "code",
      "execution_count": 48,
      "metadata": {
        "colab": {
          "base_uri": "https://localhost:8080/"
        },
        "id": "Dbf6jUYS0l7u",
        "outputId": "dcc25738-8065-49b4-8743-6b76e8f6a35f"
      },
      "outputs": [
        {
          "data": {
            "text/plain": [
              "tensor([True, True, True, True])"
            ]
          },
          "execution_count": 48,
          "metadata": {},
          "output_type": "execute_result"
        }
      ],
      "source": [
        "x.grad == 4 * x"
      ]
    },
    {
      "cell_type": "code",
      "execution_count": 49,
      "metadata": {
        "colab": {
          "base_uri": "https://localhost:8080/"
        },
        "id": "3Ou1c4nH0L73",
        "outputId": "84029005-a4eb-4963-fb11-0baedaec1b22"
      },
      "outputs": [
        {
          "data": {
            "text/plain": [
              "tensor([1., 1., 1., 1.])"
            ]
          },
          "execution_count": 49,
          "metadata": {},
          "output_type": "execute_result"
        }
      ],
      "source": [
        "x.grad.zero_()\n",
        "y = x.sum()\n",
        "y.backward()\n",
        "x.grad"
      ]
    },
    {
      "cell_type": "code",
      "execution_count": 50,
      "metadata": {
        "colab": {
          "base_uri": "https://localhost:8080/"
        },
        "id": "pZtLxjLf050V",
        "outputId": "90b7ade2-4023-4da5-e347-424850854b8d"
      },
      "outputs": [
        {
          "data": {
            "text/plain": [
              "tensor([2., 2., 2., 2.])"
            ]
          },
          "execution_count": 50,
          "metadata": {},
          "output_type": "execute_result"
        }
      ],
      "source": [
        "y.backward()\n",
        "x.grad"
      ]
    },
    {
      "cell_type": "markdown",
      "metadata": {
        "id": "Ue2noqWD2Sga"
      },
      "source": []
    },
    {
      "cell_type": "code",
      "execution_count": 51,
      "metadata": {
        "colab": {
          "base_uri": "https://localhost:8080/"
        },
        "id": "MdHC__qS2CBl",
        "outputId": "f67770ff-d52d-4bf2-e459-1a51a5c7f7d8"
      },
      "outputs": [
        {
          "data": {
            "text/plain": [
              "tensor([True, True, True, True])"
            ]
          },
          "execution_count": 51,
          "metadata": {},
          "output_type": "execute_result"
        }
      ],
      "source": [
        "x.grad.zero_()\n",
        "y = x * x\n",
        "u = y.detach() # u has the same value with y, while u is not in any computation graph (thus is a constant)\n",
        "z = u * x\n",
        "\n",
        "z.sum().backward()\n",
        "x.grad == u"
      ]
    },
    {
      "cell_type": "code",
      "execution_count": 52,
      "metadata": {
        "colab": {
          "base_uri": "https://localhost:8080/"
        },
        "id": "u3xh0qRS2UZj",
        "outputId": "3ea9c497-ddc8-4314-9e99-fc2044ad03a8"
      },
      "outputs": [
        {
          "name": "stdout",
          "output_type": "stream",
          "text": [
            "tensor([0., 1., 4., 9.])\n",
            "tensor([0., 1., 4., 9.], grad_fn=<MulBackward0>)\n"
          ]
        }
      ],
      "source": [
        "print(u)\n",
        "print(y)"
      ]
    },
    {
      "cell_type": "code",
      "execution_count": 53,
      "metadata": {
        "colab": {
          "base_uri": "https://localhost:8080/"
        },
        "id": "xhPc3xs52neF",
        "outputId": "2f4bf2dc-4bcc-4a90-9ced-1d8b2a635ad0"
      },
      "outputs": [
        {
          "data": {
            "text/plain": [
              "tensor([True, True, True, True])"
            ]
          },
          "execution_count": 53,
          "metadata": {},
          "output_type": "execute_result"
        }
      ],
      "source": [
        "x.grad.zero_()\n",
        "y.sum().backward()\n",
        "x.grad == 2 * x"
      ]
    },
    {
      "cell_type": "code",
      "execution_count": 54,
      "metadata": {
        "id": "Kwe6xPmKBLrg"
      },
      "outputs": [],
      "source": [
        "x = torch.tensor([2.0, 3.0], requires_grad=True)\n",
        "\n",
        "y = x**2\n",
        "# y.requires_grad_(True)\n",
        "y.retain_grad() # for intermediate variables\n",
        "\n",
        "z = sum(y)"
      ]
    },
    {
      "cell_type": "code",
      "execution_count": 55,
      "metadata": {
        "colab": {
          "base_uri": "https://localhost:8080/"
        },
        "id": "QN6bLoE6Bcx4",
        "outputId": "2fe33f96-7f1c-4ef8-97e0-1141d5553829"
      },
      "outputs": [
        {
          "name": "stdout",
          "output_type": "stream",
          "text": [
            "tensor([2., 3.], requires_grad=True) tensor([4., 9.], grad_fn=<PowBackward0>) tensor(13., grad_fn=<AddBackward0>)\n",
            "None None None\n"
          ]
        },
        {
          "name": "stderr",
          "output_type": "stream",
          "text": [
            "/var/folders/15/8lcxwsvj7ql4y4cmdw2m1_y00000gn/T/ipykernel_90090/2916361433.py:2: UserWarning: The .grad attribute of a Tensor that is not a leaf Tensor is being accessed. Its .grad attribute won't be populated during autograd.backward(). If you indeed want the .grad field to be populated for a non-leaf Tensor, use .retain_grad() on the non-leaf Tensor. If you access the non-leaf Tensor by mistake, make sure you access the leaf Tensor instead. See github.com/pytorch/pytorch/pull/30531 for more informations. (Triggered internally at /Users/runner/work/pytorch/pytorch/pytorch/build/aten/src/ATen/core/TensorBody.h:494.)\n",
            "  print(x.grad, y.grad, z.grad)\n"
          ]
        }
      ],
      "source": [
        "print(x,y,z)\n",
        "print(x.grad, y.grad, z.grad)"
      ]
    },
    {
      "cell_type": "code",
      "execution_count": 56,
      "metadata": {
        "colab": {
          "base_uri": "https://localhost:8080/"
        },
        "id": "UZl2J1fbBg_X",
        "outputId": "23a79c75-36a1-42a8-ceae-610a68b33010"
      },
      "outputs": [
        {
          "name": "stdout",
          "output_type": "stream",
          "text": [
            "tensor([4., 6.]) tensor([1., 1.]) None\n"
          ]
        },
        {
          "name": "stderr",
          "output_type": "stream",
          "text": [
            "/var/folders/15/8lcxwsvj7ql4y4cmdw2m1_y00000gn/T/ipykernel_90090/2198711337.py:2: UserWarning: The .grad attribute of a Tensor that is not a leaf Tensor is being accessed. Its .grad attribute won't be populated during autograd.backward(). If you indeed want the .grad field to be populated for a non-leaf Tensor, use .retain_grad() on the non-leaf Tensor. If you access the non-leaf Tensor by mistake, make sure you access the leaf Tensor instead. See github.com/pytorch/pytorch/pull/30531 for more informations. (Triggered internally at /Users/runner/work/pytorch/pytorch/pytorch/build/aten/src/ATen/core/TensorBody.h:494.)\n",
            "  print(x.grad, y.grad, z.grad)\n"
          ]
        }
      ],
      "source": [
        "z.backward()\n",
        "print(x.grad, y.grad, z.grad)"
      ]
    },
    {
      "cell_type": "markdown",
      "metadata": {
        "id": "SdwpkMTd7PvC"
      },
      "source": [
        "# Reference\n",
        "\n",
        "[AUTOMATIC DIFFERENTIATION WITH TORCH.AUTOGRAD](https://pytorch.org/tutorials/beginner/basics/autogradqs_tutorial.html)"
      ]
    }
  ],
  "metadata": {
    "colab": {
      "provenance": []
    },
    "kernelspec": {
      "display_name": "env_ST311",
      "language": "python",
      "name": "python3"
    },
    "language_info": {
      "codemirror_mode": {
        "name": "ipython",
        "version": 3
      },
      "file_extension": ".py",
      "mimetype": "text/x-python",
      "name": "python",
      "nbconvert_exporter": "python",
      "pygments_lexer": "ipython3",
      "version": "3.8.20"
    }
  },
  "nbformat": 4,
  "nbformat_minor": 0
}
