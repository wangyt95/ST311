{
 "cells": [
  {
   "cell_type": "markdown",
   "metadata": {
    "id": "VkR8cg3j7imq",
    "origin_pos": 0
   },
   "source": [
    "# Linear Regression Implementation from Scratch\n",
    "\n",
    "\n",
    "In this demo, we obtain a sample from a data generating process (dgp), and estimate it in three ways:\n",
    "* SGD\n",
    "* OLS equation manually\n",
    "* OLS using sklearn machine learning package"
   ]
  },
  {
   "cell_type": "code",
   "execution_count": 47,
   "metadata": {
    "executionInfo": {
     "elapsed": 8350,
     "status": "ok",
     "timestamp": 1706190695374,
     "user": {
      "displayName": "Phil Chan",
      "userId": "01447778780384098326"
     },
     "user_tz": 0
    },
    "id": "2yebK5N97ims",
    "origin_pos": 2,
    "tab": [
     "pytorch"
    ]
   },
   "outputs": [],
   "source": [
    "import pylab as plt #for plots\n",
    "\n",
    "import random\n",
    "import torch\n",
    "\n",
    "#for OLS using sklearn package\n",
    "import pandas as pd           #Python Data Analysis Library handle data in a user friendly way\n",
    "import numpy as np\n",
    "from sklearn import linear_model # A very popular Python library for Machine Learning\n",
    "from sklearn.linear_model import LinearRegression\n",
    "\n",
    "#OLS manually\n",
    "from numpy import matmul\n",
    "from numpy.linalg import inv\n",
    "\n",
    "#timer\n",
    "import time"
   ]
  },
  {
   "cell_type": "markdown",
   "metadata": {
    "id": "Wi8gIpvn7imt",
    "origin_pos": 4
   },
   "source": [
    "## Generating the dataset\n",
    "\n",
    "- Randomly generate $\\mathbf{X}\\in \\mathbb{R}^{1000 \\times 2}$ from the standard normal distribution.\n",
    "- Parameters: weight $\\mathbf{w} = [2, -3.4]^\\top$ and bias $b = 4.2$\n",
    "- Generate label by $\\mathbf{y}= \\mathbf{X} \\mathbf{w} + b + \\mathbf\\epsilon$\n",
    "  with noise $\\epsilon\\sim N(\\mathbf{0},0.01^2\\mathbf{I})$"
   ]
  },
  {
   "cell_type": "code",
   "execution_count": 48,
   "metadata": {
    "executionInfo": {
     "elapsed": 8,
     "status": "ok",
     "timestamp": 1706190695791,
     "user": {
      "displayName": "Phil Chan",
      "userId": "01447778780384098326"
     },
     "user_tz": 0
    },
    "id": "1Z1vxpfx7imt",
    "origin_pos": 5,
    "tab": [
     "pytorch"
    ]
   },
   "outputs": [],
   "source": [
    "#Function to generate data\n",
    "def synthetic_data(w, b, num_examples):\n",
    "    \"\"\"Generate y = Xw + b + noise.\n",
    "        Return X and y\"\"\"\n",
    "    X = torch.normal(0, 1, (num_examples, len(w)))\n",
    "    y = torch.matmul(X, w) + b  #torch.mv does not broadcast so use matmul\n",
    "    y += torch.normal(0, 0.01, y.shape)\n",
    "    return X, y.reshape((-1, 1))\n"
   ]
  },
  {
   "cell_type": "code",
   "execution_count": 50,
   "metadata": {
    "executionInfo": {
     "elapsed": 6,
     "status": "ok",
     "timestamp": 1706190695791,
     "user": {
      "displayName": "Phil Chan",
      "userId": "01447778780384098326"
     },
     "user_tz": 0
    },
    "id": "6b5ND8Rg7imt",
    "origin_pos": 7,
    "tab": [
     "pytorch"
    ]
   },
   "outputs": [],
   "source": [
    "#Values for parameters and set sample size.\n",
    "true_w = torch.tensor([2, -3.4])\n",
    "true_b = 4.2\n",
    "sampl_size=20\n",
    "\n",
    "#call to synthetic_data to generate data\n",
    "features, labels = synthetic_data(true_w, true_b, sampl_size)"
   ]
  },
  {
   "cell_type": "code",
   "execution_count": 51,
   "metadata": {},
   "outputs": [
    {
     "name": "stdout",
     "output_type": "stream",
     "text": [
      "<class 'tuple'>\n",
      "1\n"
     ]
    }
   ],
   "source": [
    "a = (1,2)\n",
    "print(type(a))\n",
    "b,c = a\n",
    "print(b)"
   ]
  },
  {
   "cell_type": "code",
   "execution_count": 52,
   "metadata": {
    "colab": {
     "base_uri": "https://localhost:8080/"
    },
    "executionInfo": {
     "elapsed": 248,
     "status": "ok",
     "timestamp": 1705654682337,
     "user": {
      "displayName": "Phil Chan",
      "userId": "01447778780384098326"
     },
     "user_tz": 0
    },
    "id": "6lUnnkrO7imt",
    "outputId": "1a730db8-e0b5-4ac1-a04d-c301e00f1b92"
   },
   "outputs": [
    {
     "name": "stdout",
     "output_type": "stream",
     "text": [
      "<class 'torch.Tensor'>\n"
     ]
    },
    {
     "data": {
      "text/plain": [
       "(True, True)"
      ]
     },
     "execution_count": 52,
     "metadata": {},
     "output_type": "execute_result"
    }
   ],
   "source": [
    "print(type(features))\n",
    "torch.is_tensor(features), torch.is_tensor(labels)"
   ]
  },
  {
   "cell_type": "code",
   "execution_count": 53,
   "metadata": {
    "colab": {
     "base_uri": "https://localhost:8080/"
    },
    "executionInfo": {
     "elapsed": 249,
     "status": "ok",
     "timestamp": 1705654911378,
     "user": {
      "displayName": "Phil Chan",
      "userId": "01447778780384098326"
     },
     "user_tz": 0
    },
    "id": "o8b3D7Ya8_5V",
    "outputId": "e061dfa7-3ab4-4f7b-a214-e19423ef1905"
   },
   "outputs": [
    {
     "data": {
      "text/plain": [
       "torch.Size([20, 2])"
      ]
     },
     "execution_count": 53,
     "metadata": {},
     "output_type": "execute_result"
    }
   ],
   "source": [
    "features.shape"
   ]
  },
  {
   "cell_type": "code",
   "execution_count": 54,
   "metadata": {
    "id": "dL-D9E1L7imu",
    "origin_pos": 9,
    "tab": [
     "pytorch"
    ]
   },
   "outputs": [
    {
     "name": "stdout",
     "output_type": "stream",
     "text": [
      "features: tensor([[ 0.5454, -1.3423],\n",
      "        [ 0.7647,  2.1852],\n",
      "        [-0.3386,  0.3280],\n",
      "        [ 1.2967, -0.7609]]) \n",
      "label: tensor([[ 9.8555],\n",
      "        [-1.7152],\n",
      "        [ 2.4177],\n",
      "        [ 9.3610]])\n"
     ]
    }
   ],
   "source": [
    "#Have a look at the 1st 5 observation (features and label)\n",
    "print('features:', features[0:4],'\\nlabel:', labels[0:4])"
   ]
  },
  {
   "cell_type": "markdown",
   "metadata": {
    "id": "wdrascWV7imu",
    "origin_pos": 10
   },
   "source": [
    "## Visualising the relationship between the features and label.\n"
   ]
  },
  {
   "cell_type": "code",
   "execution_count": 55,
   "metadata": {
    "colab": {
     "base_uri": "https://localhost:8080/",
     "height": 843
    },
    "executionInfo": {
     "elapsed": 1400,
     "status": "ok",
     "timestamp": 1706176059375,
     "user": {
      "displayName": "Phil Chan",
      "userId": "01447778780384098326"
     },
     "user_tz": 0
    },
    "id": "1QGxH0667imv",
    "origin_pos": 11,
    "outputId": "b8d2213d-1882-48ee-f9c8-158062c7d0d6",
    "tab": [
     "pytorch"
    ]
   },
   "outputs": [
    {
     "data": {
      "image/png": "[encoded data removed]",
      "text/plain": [
       "<Figure size 640x480 with 1 Axes>"
      ]
     },
     "metadata": {},
     "output_type": "display_data"
    },
    {
     "data": {
      "image/png": "[encoded data removed]",
      "text/plain": [
       "<Figure size 640x480 with 1 Axes>"
      ]
     },
     "metadata": {},
     "output_type": "display_data"
    }
   ],
   "source": [
    "# Scatterplot of label against each feature.\n",
    "\n",
    "#1st feature\n",
    "plt.scatter(features[:,0],labels)\n",
    "plt.show()\n",
    "\n",
    "#2nd feature\n",
    "plt.scatter(features[:,1],labels)\n",
    "plt.show()"
   ]
  },
  {
   "cell_type": "markdown",
   "metadata": {
    "id": "OdJeuuM47imv",
    "origin_pos": 12
   },
   "source": [
    "## Reading the Dataset\n",
    "\n",
    "Iterate over the data set and return `batch_size` (batch size) random examples."
   ]
  },
  {
   "cell_type": "code",
   "execution_count": 72,
   "metadata": {
    "executionInfo": {
     "elapsed": 7,
     "status": "ok",
     "timestamp": 1706190696866,
     "user": {
      "displayName": "Phil Chan",
      "userId": "01447778780384098326"
     },
     "user_tz": 0
    },
    "id": "94evjvia7imv",
    "origin_pos": 13,
    "tab": [
     "pytorch"
    ]
   },
   "outputs": [],
   "source": [
    "def data_iter(batch_size, features, labels):\n",
    "    num_examples = len(features)\n",
    "    indices = list(range(num_examples))\n",
    "    # The examples are read at random, in no particular order\n",
    "    random.shuffle(indices)\n",
    "    for i in range(0, num_examples, batch_size):\n",
    "        batch_indices = torch.tensor(\n",
    "            indices[i: min(i + batch_size, num_examples)])\n",
    "        yield features[batch_indices], labels[batch_indices]"
   ]
  },
  {
   "cell_type": "code",
   "execution_count": 56,
   "metadata": {},
   "outputs": [],
   "source": [
    "def know_yield(nums):\n",
    "    for i in range(nums):\n",
    "        yield i"
   ]
  },
  {
   "cell_type": "code",
   "execution_count": 57,
   "metadata": {},
   "outputs": [
    {
     "name": "stdout",
     "output_type": "stream",
     "text": [
      "<generator object know_yield at 0x302b713c0>\n"
     ]
    }
   ],
   "source": [
    "test_yield = know_yield(10)\n",
    "\n",
    "print(test_yield)"
   ]
  },
  {
   "cell_type": "code",
   "execution_count": 58,
   "metadata": {},
   "outputs": [
    {
     "data": {
      "text/plain": [
       "<generator object know_yield at 0x302b713c0>"
      ]
     },
     "execution_count": 58,
     "metadata": {},
     "output_type": "execute_result"
    }
   ],
   "source": [
    "test_yield"
   ]
  },
  {
   "cell_type": "code",
   "execution_count": 69,
   "metadata": {},
   "outputs": [
    {
     "ename": "StopIteration",
     "evalue": "",
     "output_type": "error",
     "traceback": [
      "\u001b[0;31m---------------------------------------------------------------------------\u001b[0m",
      "\u001b[0;31mStopIteration\u001b[0m                             Traceback (most recent call last)",
      "Cell \u001b[0;32mIn[69], line 1\u001b[0m\n\u001b[0;32m----> 1\u001b[0m \u001b[38;5;28;43mnext\u001b[39;49m\u001b[43m(\u001b[49m\u001b[43mtest_yield\u001b[49m\u001b[43m)\u001b[49m\n",
      "\u001b[0;31mStopIteration\u001b[0m: "
     ]
    }
   ],
   "source": [
    "next(test_yield)"
   ]
  },
  {
   "cell_type": "markdown",
   "metadata": {
    "id": "RagjfX9p7imv"
   },
   "source": [
    "### Activity 1\n",
    "\n",
    "Study the function `a_generator`, below, in order to understand the `data_iter` function.\n",
    "\n",
    "If you can't follow it, paste the code (both parts) into [Python Tutor](https://pythontutor.com/python-debugger.html#mode=edit). Observe then using yield, the function a_generator is run once only. When you call it the second time, it goes to the second yield line, the next and last time will go to the 3rd yield line."
   ]
  },
  {
   "cell_type": "code",
   "execution_count": 70,
   "metadata": {
    "id": "bPDfZLzW7imw"
   },
   "outputs": [],
   "source": [
    "#Break down of data_iter by studying something similar\n",
    "\n",
    "def a_generator():\n",
    "    # n = 9\n",
    "    toy_data= [\"a\",\"b\",\"c\",\"d\",\"e\",\"f\",\"g\",\"h\",\"i\"]\n",
    "    print(f\"the data: {toy_data}\")\n",
    "    #Shuffled_indices permutes the indices 0 to 8, and arranges in mini-batches of 3\n",
    "    shuffled_indices_1 = [8, 2, 6]\n",
    "    shuffled_indices_2 = [4, 7, 3]\n",
    "    shuffled_indices_3 = [0, 1, 5]\n",
    "    #The 3 yield would be the output of the for loop in data_iter()\n",
    "    yield [toy_data[i] for i in shuffled_indices_1]\n",
    "    yield [toy_data[i] for i in shuffled_indices_2]\n",
    "    yield [toy_data[i] for i in shuffled_indices_3]"
   ]
  },
  {
   "cell_type": "code",
   "execution_count": 71,
   "metadata": {
    "id": "ugNYAJ8Y7imw"
   },
   "outputs": [
    {
     "name": "stdout",
     "output_type": "stream",
     "text": [
      "the data: ['a', 'b', 'c', 'd', 'e', 'f', 'g', 'h', 'i']\n",
      "['i', 'c', 'g']\n",
      "['e', 'h', 'd']\n",
      "['a', 'b', 'f']\n"
     ]
    }
   ],
   "source": [
    "test_generator = a_generator()\n",
    "for j in test_generator:\n",
    "    print(j)"
   ]
  },
  {
   "cell_type": "code",
   "execution_count": 31,
   "metadata": {},
   "outputs": [
    {
     "name": "stdout",
     "output_type": "stream",
     "text": [
      "<generator object a_generator at 0x14da7a820>\n",
      "the data: ['a', 'b', 'c', 'd', 'e', 'f', 'g', 'h', 'i']\n",
      "['i', 'c', 'g']\n",
      "['e', 'h', 'd']\n",
      "['a', 'b', 'f']\n"
     ]
    },
    {
     "ename": "StopIteration",
     "evalue": "",
     "output_type": "error",
     "traceback": [
      "\u001b[0;31m---------------------------------------------------------------------------\u001b[0m",
      "\u001b[0;31mStopIteration\u001b[0m                             Traceback (most recent call last)",
      "Cell \u001b[0;32mIn[31], line 8\u001b[0m\n\u001b[1;32m      5\u001b[0m \u001b[38;5;28mprint\u001b[39m(\u001b[38;5;28mnext\u001b[39m(item))\n\u001b[1;32m      6\u001b[0m \u001b[38;5;28mprint\u001b[39m(\u001b[38;5;28mnext\u001b[39m(item))\n\u001b[0;32m----> 8\u001b[0m \u001b[38;5;28;43mnext\u001b[39;49m\u001b[43m(\u001b[49m\u001b[43mitem\u001b[49m\u001b[43m)\u001b[49m\n",
      "\u001b[0;31mStopIteration\u001b[0m: "
     ]
    }
   ],
   "source": [
    "print(a_generator())\n",
    "\n",
    "item = a_generator()\n",
    "print(next(item))\n",
    "print(next(item))\n",
    "print(next(item))\n",
    "\n",
    "next(item)\n"
   ]
  },
  {
   "cell_type": "code",
   "execution_count": 44,
   "metadata": {},
   "outputs": [
    {
     "data": {
      "text/plain": [
       "list_iterator"
      ]
     },
     "execution_count": 44,
     "metadata": {},
     "output_type": "execute_result"
    }
   ],
   "source": [
    "test_list = iter([1,2,3,4])\n",
    "type(test_list)"
   ]
  },
  {
   "cell_type": "code",
   "execution_count": 46,
   "metadata": {},
   "outputs": [
    {
     "data": {
      "text/plain": [
       "2"
      ]
     },
     "execution_count": 46,
     "metadata": {},
     "output_type": "execute_result"
    }
   ],
   "source": [
    "next(test_list)"
   ]
  },
  {
   "cell_type": "markdown",
   "metadata": {
    "id": "8fPAVSgR7imw"
   },
   "source": [
    "## Scatterplot of a mini-batch"
   ]
  },
  {
   "cell_type": "code",
   "execution_count": 77,
   "metadata": {
    "colab": {
     "base_uri": "https://localhost:8080/",
     "height": 843
    },
    "executionInfo": {
     "elapsed": 2922,
     "status": "ok",
     "timestamp": 1706190701160,
     "user": {
      "displayName": "Phil Chan",
      "userId": "01447778780384098326"
     },
     "user_tz": 0
    },
    "id": "t82yTV8h7imw",
    "outputId": "c2a7dcf2-145e-4099-e148-6fbe8683c217"
   },
   "outputs": [
    {
     "data": {
      "image/png": "[encoded data removed]",
      "text/plain": [
       "<Figure size 640x480 with 1 Axes>"
      ]
     },
     "metadata": {},
     "output_type": "display_data"
    },
    {
     "data": {
      "image/png": "[encoded data removed]",
      "text/plain": [
       "<Figure size 640x480 with 1 Axes>"
      ]
     },
     "metadata": {},
     "output_type": "display_data"
    }
   ],
   "source": [
    "# Get a minbatch\n",
    "batch_size = 4\n",
    "a_minibatch = data_iter(batch_size, features, labels)\n",
    "batch_features, batch_labels = next(a_minibatch) #next is used with yield.\n",
    "\n",
    "#scatterplot\n",
    "\n",
    "#1st feature\n",
    "plt.scatter(batch_features[:,0],batch_labels)\n",
    "plt.show()\n",
    "\n",
    "#2nd feature\n",
    "plt.scatter(batch_features[:,1],batch_labels)\n",
    "plt.show()\n",
    "\n",
    "# Each time you run this block of code you get a different scatterplot. Explain why."
   ]
  },
  {
   "cell_type": "code",
   "execution_count": 78,
   "metadata": {
    "id": "Vp7VZQyP7imw"
   },
   "outputs": [
    {
     "name": "stdout",
     "output_type": "stream",
     "text": [
      "tensor([[ 1.2967, -0.7609],\n",
      "        [-1.0104,  0.7796],\n",
      "        [ 0.5297, -0.5195],\n",
      "        [ 0.7485,  0.0286]]) tensor([[ 9.3610],\n",
      "        [-0.4781],\n",
      "        [ 7.0367],\n",
      "        [ 5.6034]])\n",
      "torch.Size([4, 2])\n",
      "torch.Size([4, 1])\n",
      "tensor([[ 1.2967, -0.7609],\n",
      "        [-1.0104,  0.7796],\n",
      "        [ 0.5297, -0.5195],\n",
      "        [ 0.7485,  0.0286]]) tensor([[ 9.3610],\n",
      "        [-0.4781],\n",
      "        [ 7.0367],\n",
      "        [ 5.6034]])\n",
      "torch.Size([4, 2])\n",
      "torch.Size([4, 1])\n",
      "tensor([[ 1.2967, -0.7609],\n",
      "        [-1.0104,  0.7796],\n",
      "        [ 0.5297, -0.5195],\n",
      "        [ 0.7485,  0.0286]]) tensor([[ 9.3610],\n",
      "        [-0.4781],\n",
      "        [ 7.0367],\n",
      "        [ 5.6034]])\n",
      "torch.Size([4, 2])\n",
      "torch.Size([4, 1])\n",
      "tensor([[ 1.2967, -0.7609],\n",
      "        [-1.0104,  0.7796],\n",
      "        [ 0.5297, -0.5195],\n",
      "        [ 0.7485,  0.0286]]) tensor([[ 9.3610],\n",
      "        [-0.4781],\n",
      "        [ 7.0367],\n",
      "        [ 5.6034]])\n",
      "torch.Size([4, 2])\n",
      "torch.Size([4, 1])\n"
     ]
    }
   ],
   "source": [
    "#See all the minibatches\n",
    "for j in a_minibatch:\n",
    "    print(batch_features, batch_labels)\n",
    "    print(batch_features.shape)\n",
    "    print(batch_labels.shape)"
   ]
  },
  {
   "cell_type": "markdown",
   "metadata": {
    "id": "MsACdZzn7imx",
    "origin_pos": 17
   },
   "source": [
    "## 1. Parameter estimation using SGD\n",
    "\n",
    "\n",
    "### Initialize model parameters\n",
    "\n",
    "Here we specify that\n",
    "\n",
    "-  each weight parameter is randomly sampled from a normal distribution with mean 0 and standard deviation 0.01.\n",
    "-  The bias parameter will be initialized to zero.\n",
    "\n",
    "This is a pretty non-sophisticated way to do it, and we will discuss better ways.\n"
   ]
  },
  {
   "cell_type": "code",
   "execution_count": 79,
   "metadata": {
    "executionInfo": {
     "elapsed": 4,
     "status": "ok",
     "timestamp": 1706190701370,
     "user": {
      "displayName": "Phil Chan",
      "userId": "01447778780384098326"
     },
     "user_tz": 0
    },
    "id": "6BaMZxet7imx",
    "origin_pos": 19,
    "tab": [
     "pytorch"
    ]
   },
   "outputs": [],
   "source": [
    "#intialise parameters\n",
    "w = torch.normal(0, 0.01, size=(2,1), requires_grad=True)\n",
    "b = torch.zeros(1, requires_grad=True)"
   ]
  },
  {
   "cell_type": "markdown",
   "metadata": {
    "id": "2BJZ16mK7imx",
    "origin_pos": 21
   },
   "source": [
    "### Define the model"
   ]
  },
  {
   "cell_type": "code",
   "execution_count": 82,
   "metadata": {
    "executionInfo": {
     "elapsed": 195,
     "status": "ok",
     "timestamp": 1706190703205,
     "user": {
      "displayName": "Phil Chan",
      "userId": "01447778780384098326"
     },
     "user_tz": 0
    },
    "id": "0Ea4Yt3t7imx",
    "origin_pos": 22,
    "tab": [
     "pytorch"
    ]
   },
   "outputs": [],
   "source": [
    "def linreg(X, w, b):\n",
    "    \"\"\"The linear regression model.Return Xw+b\"\"\"\n",
    "    return torch.matmul(X, w) + b"
   ]
  },
  {
   "cell_type": "markdown",
   "metadata": {
    "id": "8MX8gU4C7imx",
    "origin_pos": 23
   },
   "source": [
    "### Define the Loss Function"
   ]
  },
  {
   "cell_type": "code",
   "execution_count": 81,
   "metadata": {
    "executionInfo": {
     "elapsed": 193,
     "status": "ok",
     "timestamp": 1706190705194,
     "user": {
      "displayName": "Phil Chan",
      "userId": "01447778780384098326"
     },
     "user_tz": 0
    },
    "id": "uw6wsNFe7imx",
    "origin_pos": 24,
    "tab": [
     "pytorch"
    ]
   },
   "outputs": [],
   "source": [
    "def squared_loss(y_hat, y):\n",
    "    \"\"\"Return squared loss/2\"\"\"\n",
    "    return (y_hat - y.reshape(y_hat.shape)) ** 2 / 2"
   ]
  },
  {
   "cell_type": "markdown",
   "metadata": {
    "id": "-UP1OYDw7imx",
    "origin_pos": 25
   },
   "source": [
    "### Defining the Optimization Algorithm SGD"
   ]
  },
  {
   "cell_type": "code",
   "execution_count": null,
   "metadata": {},
   "outputs": [],
   "source": [
    "a -= b\n",
    "# equavalent to\n",
    "a = a - b"
   ]
  },
  {
   "cell_type": "code",
   "execution_count": 80,
   "metadata": {
    "executionInfo": {
     "elapsed": 244,
     "status": "ok",
     "timestamp": 1706190707343,
     "user": {
      "displayName": "Phil Chan",
      "userId": "01447778780384098326"
     },
     "user_tz": 0
    },
    "id": "e2RX-7Uh7imx",
    "origin_pos": 27,
    "tab": [
     "pytorch"
    ]
   },
   "outputs": [],
   "source": [
    "def sgd(params, lr, batch_size):\n",
    "    \"\"\"Minibatch stochastic gradient descent.\"\"\"\n",
    "    with torch.no_grad():\n",
    "        for param in params:\n",
    "\n",
    "            #update all parameters\n",
    "            param -= lr * param.grad / batch_size\n",
    "\n",
    "             # zero the gradients before running the backward pass.\n",
    "            param.grad.zero_()"
   ]
  },
  {
   "cell_type": "markdown",
   "metadata": {
    "id": "Nz_rD1MX7imx",
    "origin_pos": 29
   },
   "source": [
    "### Training\n",
    "\n",
    "For minibatch SGD, we execute the following loop:\n",
    "\n",
    "* Initialize parameters $(\\mathbf{w}, b)$\n",
    "* Repeat until done\n",
    "    * Compute gradient $\\mathbf{g} \\leftarrow \\partial_{(\\mathbf{w},b)} \\frac{1}{|\\mathcal{B}|} \\sum_{i \\in \\mathcal{B}} l(\\mathbf{x}^{(i)}, y^{(i)}, \\mathbf{w}, b)$\n",
    "    * Update parameters $(\\mathbf{w}, b) \\leftarrow (\\mathbf{w}, b) - \\eta \\mathbf{g}$"
   ]
  },
  {
   "cell_type": "code",
   "execution_count": 83,
   "metadata": {
    "executionInfo": {
     "elapsed": 188,
     "status": "ok",
     "timestamp": 1706190710447,
     "user": {
      "displayName": "Phil Chan",
      "userId": "01447778780384098326"
     },
     "user_tz": 0
    },
    "id": "G7-N0Qnd7imy",
    "origin_pos": 30,
    "tab": [
     "pytorch"
    ]
   },
   "outputs": [
    {
     "name": "stdout",
     "output_type": "stream",
     "text": [
      "<function linreg at 0x302c72dc0>\n",
      "<function linreg at 0x302c72dc0>\n"
     ]
    }
   ],
   "source": [
    "#hyperparameters\n",
    "batch_size = 50\n",
    "lr = 0.8\n",
    "num_epochs = 20\n",
    "\n",
    "#Model specification\n",
    "net = linreg\n",
    "loss = squared_loss\n",
    "\n",
    "print(net)\n",
    "print(linreg)"
   ]
  },
  {
   "cell_type": "markdown",
   "metadata": {},
   "source": [
    "# Training"
   ]
  },
  {
   "cell_type": "code",
   "execution_count": 84,
   "metadata": {
    "colab": {
     "base_uri": "https://localhost:8080/"
    },
    "executionInfo": {
     "elapsed": 190,
     "status": "ok",
     "timestamp": 1706190712602,
     "user": {
      "displayName": "Phil Chan",
      "userId": "01447778780384098326"
     },
     "user_tz": 0
    },
    "id": "msA1EFCV7imy",
    "origin_pos": 32,
    "outputId": "905fac94-1c74-41c8-bf6e-c1cc8b2560f4",
    "tab": [
     "pytorch"
    ]
   },
   "outputs": [
    {
     "name": "stdout",
     "output_type": "stream",
     "text": [
      "epoch 1, loss 7.243015, time for one epoch 0.1294 seconds\n",
      "epoch 2, loss 3.714826, time for one epoch 0.0010 seconds\n",
      "epoch 3, loss 1.977414, time for one epoch 0.0001 seconds\n",
      "epoch 4, loss 1.081285, time for one epoch 0.0001 seconds\n",
      "epoch 5, loss 0.604524, time for one epoch 0.0001 seconds\n",
      "epoch 6, loss 0.344824, time for one epoch 0.0001 seconds\n",
      "epoch 7, loss 0.200436, time for one epoch 0.0001 seconds\n",
      "epoch 8, loss 0.118600, time for one epoch 0.0001 seconds\n",
      "epoch 9, loss 0.071345, time for one epoch 0.0001 seconds\n",
      "epoch 10, loss 0.043567, time for one epoch 0.0001 seconds\n",
      "epoch 11, loss 0.026961, time for one epoch 0.0001 seconds\n",
      "epoch 12, loss 0.016879, time for one epoch 0.0001 seconds\n",
      "epoch 13, loss 0.010673, time for one epoch 0.0001 seconds\n",
      "epoch 14, loss 0.006808, time for one epoch 0.0001 seconds\n",
      "epoch 15, loss 0.004375, time for one epoch 0.0001 seconds\n",
      "epoch 16, loss 0.002832, time for one epoch 0.0001 seconds\n",
      "epoch 17, loss 0.001846, time for one epoch 0.0001 seconds\n",
      "epoch 18, loss 0.001212, time for one epoch 0.0001 seconds\n",
      "epoch 19, loss 0.000804, time for one epoch 0.0001 seconds\n",
      "epoch 20, loss 0.000539, time for one epoch 0.0001 seconds\n"
     ]
    }
   ],
   "source": [
    "for epoch in range(num_epochs):\n",
    "    for X, y in data_iter(batch_size, features, labels):\n",
    "        tic = time.perf_counter()\n",
    "\n",
    "        #compute the loss with forward pass net() to get predictions\n",
    "        l = loss(net(X, w, b), y)  # Minibatch loss in `X` and `y`\n",
    "\n",
    "        # backward pass to compute gradient on `l` with respect to\n",
    "        #learnable parameters [`w`, `b`]\n",
    "        l.sum().backward()\n",
    "\n",
    "        # call to sgd function that uppdates parameters using SGD\n",
    "        sgd([w, b], lr, batch_size)\n",
    "\n",
    "    with torch.no_grad():\n",
    "        yhat = net(features, w, b)\n",
    "        train_l = loss(yhat, labels)\n",
    "        toc = time.perf_counter()\n",
    "        print(f'epoch {epoch + 1}, loss {float(train_l.mean()):f}, time for one epoch {toc - tic:0.4f} seconds')"
   ]
  },
  {
   "cell_type": "code",
   "execution_count": 86,
   "metadata": {
    "id": "w3AVE7e27imy"
   },
   "outputs": [
    {
     "name": "stdout",
     "output_type": "stream",
     "text": [
      "tensor([4.1870], requires_grad=True) 4.2\n",
      "tensor([[ 2.0167],\n",
      "        [-3.3688]], requires_grad=True) tensor([ 2.0000, -3.4000])\n"
     ]
    }
   ],
   "source": [
    "# Compare true values to estimates\n",
    "print(b, true_b)\n",
    "print(w, true_w)"
   ]
  },
  {
   "cell_type": "markdown",
   "metadata": {
    "id": "-KHJu3Du7imy"
   },
   "source": [
    "## 2. Compute OLS manually"
   ]
  },
  {
   "cell_type": "code",
   "execution_count": 25,
   "metadata": {
    "id": "SeBE-tyW7imy"
   },
   "outputs": [
    {
     "name": "stdout",
     "output_type": "stream",
     "text": [
      "[[ 4.20259781]\n",
      " [ 1.99701012]\n",
      " [-3.39717185]]\n"
     ]
    }
   ],
   "source": [
    "# create the design matrix: the x data, and add a column of ones for the constant term\n",
    "X = np.column_stack( [np.ones([len(features), 1]), features.reshape(-1, 2)] )\n",
    "\n",
    "# These are the normal equations in matrix form: b_hat = (X' X)^-1 X' y\n",
    "b_hat = matmul(inv(matmul(X.transpose(),X)),X.transpose()).dot(labels)\n",
    "print(b_hat)"
   ]
  },
  {
   "cell_type": "markdown",
   "metadata": {
    "id": "gluLs6LP7imy"
   },
   "source": [
    "# 3. OLS using sklearn package"
   ]
  },
  {
   "cell_type": "code",
   "execution_count": 26,
   "metadata": {
    "id": "-YumTgBY7imy"
   },
   "outputs": [
    {
     "data": {
      "text/html": [
       "<div>\n",
       "<style scoped>\n",
       "    .dataframe tbody tr th:only-of-type {\n",
       "        vertical-align: middle;\n",
       "    }\n",
       "\n",
       "    .dataframe tbody tr th {\n",
       "        vertical-align: top;\n",
       "    }\n",
       "\n",
       "    .dataframe thead th {\n",
       "        text-align: right;\n",
       "    }\n",
       "</style>\n",
       "<table border=\"1\" class=\"dataframe\">\n",
       "  <thead>\n",
       "    <tr style=\"text-align: right;\">\n",
       "      <th></th>\n",
       "      <th>mse</th>\n",
       "      <th>bias</th>\n",
       "      <th>w1</th>\n",
       "      <th>w2</th>\n",
       "    </tr>\n",
       "  </thead>\n",
       "  <tbody>\n",
       "    <tr>\n",
       "      <th>0</th>\n",
       "      <td>0.000051</td>\n",
       "      <td>4.202598</td>\n",
       "      <td>1.99701</td>\n",
       "      <td>-3.397171</td>\n",
       "    </tr>\n",
       "  </tbody>\n",
       "</table>\n",
       "</div>"
      ],
      "text/plain": [
       "        mse      bias       w1        w2\n",
       "0  0.000051  4.202598  1.99701 -3.397171"
      ]
     },
     "execution_count": 26,
     "metadata": {},
     "output_type": "execute_result"
    }
   ],
   "source": [
    "# This block is optional\n",
    "#Compare to OLS\n",
    "data = pd.DataFrame(np.column_stack([features,labels]),columns=['x1','x2','y']) #columns, then column names\n",
    "data[0:4]\n",
    "\n",
    "predictors = ['x1','x2']\n",
    "linreg = LinearRegression(fit_intercept=True)\n",
    "linreg.fit(data[predictors],data['y'])\n",
    "y_pred = linreg.predict(data[predictors])\n",
    "\n",
    "#Display OLS estimates\n",
    "mse = np.mean((y_pred-data['y'])**2)/2\n",
    "results = [mse]\n",
    "results.extend([linreg.intercept_])\n",
    "results.extend(linreg.coef_)\n",
    "results = pd.DataFrame([results],columns = ['mse','bias','w1','w2'])\n",
    "results"
   ]
  },
  {
   "cell_type": "markdown",
   "metadata": {
    "id": "804wd_en7imz",
    "origin_pos": 36
   },
   "source": [
    "### Activity 2\n",
    "\n",
    "Things to try:\n",
    "1. (Compulsory) Let's see the effect of changing the learning rate on the shape of the loss over epochs for different orders of magnitude of the learning rate, keeping all other hyperparameters constant.\n",
    "    1. Re-run the training on the same simulated data for learning rates: 0.01, 0.9, 10, 15. In this case, which learning rate is best? Are the results as you expect? (Here you should notice the performance is sensitive to the learning rate. Generally learning performance is sensitive to hyperparameters. )\n",
    "    1. Train the model with the learning rate set to the negative of the optimal learning rate found in part A. What do you observe? Can you explain it?\n",
    "\n",
    "1. Repeat the demo but simulate data from a model with 3 instead of 2 features.\n",
    "1. Does the convergence of SGD depend on the initial values? Try a few initialisations like setting them all to 0.\n",
    "1. In the `sgd` function, if you remove `with torch.no_grad():` does the program still run? If it does, is there a noticeable change in the time to run through an epoch?\n",
    "1. If the number of examples cannot be divided by the batch size, what happens to the `data_iter` function's behavior?\n",
    "1. Add regression outliers and see how close your estimates are to the true parameters."
   ]
  },
  {
   "cell_type": "markdown",
   "metadata": {
    "id": "mr_4dluB7imz",
    "origin_pos": 38,
    "tab": [
     "pytorch"
    ]
   },
   "source": [
    "[Discussions](https://discuss.d2l.ai/t/43)\n"
   ]
  }
 ],
 "metadata": {
  "colab": {
   "provenance": []
  },
  "kernelspec": {
   "display_name": "env_ST311",
   "language": "python",
   "name": "python3"
  },
  "language_info": {
   "codemirror_mode": {
    "name": "ipython",
    "version": 3
   },
   "file_extension": ".py",
   "mimetype": "text/x-python",
   "name": "python",
   "nbconvert_exporter": "python",
   "pygments_lexer": "ipython3",
   "version": "3.8.20"
  }
 },
 "nbformat": 4,
 "nbformat_minor": 0
}
